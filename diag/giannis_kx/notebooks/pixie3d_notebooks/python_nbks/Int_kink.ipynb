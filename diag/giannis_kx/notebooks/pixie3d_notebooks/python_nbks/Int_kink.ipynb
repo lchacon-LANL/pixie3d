{
 "cells": [
  {
   "cell_type": "code",
   "execution_count": 1,
   "metadata": {
    "collapsed": true
   },
   "outputs": [],
   "source": [
    "%matplotlib inline\n",
    "import matplotlib.pyplot as plt\n",
    "import pylab as py\n",
    "import numpy as np\n",
    "from imp import reload\n",
    "import pixie_read_st as pxr"
   ]
  },
  {
   "cell_type": "code",
   "execution_count": 2,
   "metadata": {
    "collapsed": true
   },
   "outputs": [],
   "source": [
    "plt.style.use('ggplot')\n",
    "plt.rcParams['font.size'] = 20\n",
    "plt.rcParams['axes.labelsize'] = 20\n",
    "plt.rcParams['axes.labelweight'] = 'heavy'\n",
    "plt.rcParams['xtick.labelsize'] = 15\n",
    "plt.rcParams['ytick.labelsize'] = 15\n",
    "plt.rcParams['legend.fontsize'] = 10\n",
    "plt.rcParams['figure.titlesize'] = 12\n",
    "plt.rcParams['text.usetex']=True"
   ]
  },
  {
   "cell_type": "code",
   "execution_count": 3,
   "metadata": {},
   "outputs": [
    {
     "data": {
      "text/plain": [
       "<module 'pixie_read_st' from '/turquoise/users/giannis_kx/python_pixie/pixie_read_st.py'>"
      ]
     },
     "execution_count": 3,
     "metadata": {},
     "output_type": "execute_result"
    }
   ],
   "source": [
    "reload(pxr)"
   ]
  },
  {
   "cell_type": "code",
   "execution_count": 4,
   "metadata": {
    "collapsed": true
   },
   "outputs": [],
   "source": [
    "filepath = \"/net/scratch4/giannis_kx/pixie3d/iter/int_kink/11/11_new_visc.scratch/\""
   ]
  },
  {
   "cell_type": "code",
   "execution_count": 5,
   "metadata": {},
   "outputs": [
    {
     "name": "stdout",
     "output_type": "stream",
     "text": [
      "timesteps= 40\n",
      "Dictionary of terms:\n",
      "Variables: ['Car_variables', 'Cnv_variables', 'Cov_variables', 'Diagnostics', 'Perturbations', 'cells', 'nodes']\n",
      "Cartesian: ['Bx', 'By', 'Bz', 'Jx', 'Jy', 'Jz', 'Prs', 'Ve_1', 'Ve_2', 'Ve_3', 'Vx', 'Vy', 'Vz', 'rho']\n",
      "Contravariant: ['B^1', 'B^2', 'B^3', 'J*P^2', 'J.(pi+pe)', 'J.Rho', 'J^1', 'J^2', 'J^3', 'P^1', 'P^3']\n",
      "Covariant: ['B_1', 'B_2', 'B_3', 'J_1', 'J_2', 'J_3', 'T=Te+Ti', 'V_1', 'V_2', 'V_3', 'rho']\n",
      "Diagnostic: ['E_1', 'E_2', 'E_3', 'Int. heat src', 'Poloidal flux', 'Temperature', 'V.(b x grad(psi))', 'V.grad(psi)', 'V||', 'chi par', 'chi perp', 'diff', 'eta', 'lambda', 'local div(B)', 'local div(J)', 'local div(V)', 'nu', 'q factor']\n",
      "Perturbations: ['B^1_pert', 'B^2_pert', 'B^3_pert', 'P^1_pert', 'P^2_pert', 'P^3_pert', 'Prs_pert', 'Rho_pert']\n",
      "Cell: ['X', 'Y', 'Z']\n",
      "Node: ['X', 'Y', 'Z']\n"
     ]
    }
   ],
   "source": [
    "pxr.pixieload(filepath + \"pixie3d.h5\")"
   ]
  },
  {
   "cell_type": "code",
   "execution_count": 6,
   "metadata": {
    "collapsed": true
   },
   "outputs": [],
   "source": [
    "B1 = pxr.load_array(1,0,0,40)\n",
    "B2 = pxr.load_array(1,1,0,40)\n",
    "B3 = pxr.load_array(1,2,0,40)\n",
    "psi_pol = pxr.load_array(3,4,0,40)"
   ]
  },
  {
   "cell_type": "code",
   "execution_count": 41,
   "metadata": {
    "collapsed": true
   },
   "outputs": [],
   "source": [
    "B1t = np.mean(B1,axis=2)\n",
    "B2t = np.mean(B2,axis=2)\n",
    "B3t = np.mean(B3,axis=2)"
   ]
  },
  {
   "cell_type": "code",
   "execution_count": 42,
   "metadata": {
    "collapsed": true
   },
   "outputs": [],
   "source": [
    "dB1 = B1[:,:,:,:] - B1t[:,:,np.newaxis,:]\n",
    "dB2 = B2[:,:,:,:] - B2t[:,:,np.newaxis,:]\n",
    "dB3 = B3[:,:,:,:] - B3t[:,:,np.newaxis,:]"
   ]
  },
  {
   "cell_type": "markdown",
   "metadata": {},
   "source": [
    "## Growth Rate"
   ]
  },
  {
   "cell_type": "code",
   "execution_count": 74,
   "metadata": {},
   "outputs": [
    {
     "data": {
      "text/plain": [
       "array([  0.56809214, -25.08303218])"
      ]
     },
     "execution_count": 74,
     "metadata": {},
     "output_type": "execute_result"
    }
   ],
   "source": [
    "np.polyfit(time_list[35:38],np.log(dB3[90,0,0,35:38]),deg=1)"
   ]
  },
  {
   "cell_type": "code",
   "execution_count": 81,
   "metadata": {},
   "outputs": [],
   "source": [
    "small_t = np.asarray(time_list[35:38])\n",
    "line = - 25.08303218 + 0.56809214*small_t"
   ]
  },
  {
   "cell_type": "code",
   "execution_count": 101,
   "metadata": {},
   "outputs": [
    {
     "data": {
      "image/png": "[encoded data removed]",
      "text/plain": [
       "<matplotlib.figure.Figure at 0x2b0f45450908>"
      ]
     },
     "metadata": {},
     "output_type": "display_data"
    }
   ],
   "source": [
    "fig, (ax1,ax2) = plt.subplots(1,2)\n",
    "ax1.plot(time_list,dB3[90,0,0,:])\n",
    "ax1.set_xlabel(\"time\")\n",
    "ax1.set_ylabel(r\"$\\delta B^3$\")\n",
    "ax2.scatter(time_list[35:],np.log(dB3[90,0,0,35:]),marker='*',color = \"b\",label=\"data\")\n",
    "ax2.plot(small_t,line,label=\"fit\")\n",
    "ax2.set_xlabel(\"time\")\n",
    "ax2.set_ylabel(r\"$\\ln(\\delta B^3)$\")\n",
    "plt.tight_layout()\n",
    "plt.legend()\n",
    "plt.show()"
   ]
  },
  {
   "cell_type": "code",
   "execution_count": 7,
   "metadata": {},
   "outputs": [
    {
     "data": {
      "text/plain": [
       "(129, 65, 33, 40)"
      ]
     },
     "execution_count": 7,
     "metadata": {},
     "output_type": "execute_result"
    }
   ],
   "source": [
    "psi_pol.shape"
   ]
  },
  {
   "cell_type": "code",
   "execution_count": 8,
   "metadata": {},
   "outputs": [
    {
     "data": {
      "image/png": "[encoded data removed]",
      "text/plain": [
       "<matplotlib.figure.Figure at 0x2b0f180e09b0>"
      ]
     },
     "metadata": {},
     "output_type": "display_data"
    }
   ],
   "source": [
    "CS = plt.contour(pxr.X[:,:,0],pxr.Z[:,:,0],psi_pol[:,:,0,0])\n",
    "plt.clabel(CS,fmt=\"%1.2f\")\n",
    "plt.colorbar()\n",
    "plt.show()"
   ]
  },
  {
   "cell_type": "code",
   "execution_count": 9,
   "metadata": {
    "collapsed": true
   },
   "outputs": [],
   "source": [
    "time_list = [x for x in range(40)]\n",
    "psin_list = np.linspace(0.0,1.0,101)"
   ]
  },
  {
   "cell_type": "code",
   "execution_count": 24,
   "metadata": {},
   "outputs": [],
   "source": [
    "q = -np.load(filepath+\"q_mpi_DF.npy\")"
   ]
  },
  {
   "cell_type": "code",
   "execution_count": 32,
   "metadata": {
    "collapsed": true
   },
   "outputs": [],
   "source": [
    "b_hat_rho = np.load(filepath + \"b_hat_rho_mpi_DF.npy\")"
   ]
  },
  {
   "cell_type": "code",
   "execution_count": 25,
   "metadata": {},
   "outputs": [],
   "source": [
    "idx11 = np.argwhere(np.diff(np.sign(np.asarray(q[:,0])-(1./1.)))).flatten()\n",
    "idx21 = np.argwhere(np.diff(np.sign(np.asarray(q[:,0])-(2./1.)))).flatten()\n",
    "idx31 = np.argwhere(np.diff(np.sign(np.asarray(q[:,0])-(3./1.)))).flatten()\n",
    "idx41 = np.argwhere(np.diff(np.sign(np.asarray(q[:,0])-(4./1.)))).flatten()\n",
    "idx51 = np.argwhere(np.diff(np.sign(np.asarray(q[:,0])-(5./1.)))).flatten()"
   ]
  },
  {
   "cell_type": "code",
   "execution_count": 33,
   "metadata": {},
   "outputs": [
    {
     "data": {
      "text/plain": [
       "(101, 65, 33, 4)"
      ]
     },
     "execution_count": 33,
     "metadata": {},
     "output_type": "execute_result"
    }
   ],
   "source": [
    "b_hat_rho.shape"
   ]
  },
  {
   "cell_type": "code",
   "execution_count": 27,
   "metadata": {},
   "outputs": [
    {
     "data": {
      "image/png": "[encoded data removed]",
      "text/plain": [
       "<matplotlib.figure.Figure at 0x2b0f35d977b8>"
      ]
     },
     "metadata": {},
     "output_type": "display_data"
    }
   ],
   "source": [
    "plt.plot(psin_list[:],q[:,0])\n",
    "plt.axvline(psin_list[idx11],linestyle='dashed')\n",
    "plt.axvline(psin_list[idx21],linestyle='dashed')\n",
    "plt.xlabel(r'$\\Psi_N$')\n",
    "plt.ylabel(r'q')\n",
    "plt.show()"
   ]
  },
  {
   "cell_type": "code",
   "execution_count": 28,
   "metadata": {
    "collapsed": true
   },
   "outputs": [],
   "source": [
    "#bnmt = pxr.nm_array(b_hat_rho)"
   ]
  },
  {
   "cell_type": "code",
   "execution_count": 17,
   "metadata": {
    "collapsed": true
   },
   "outputs": [],
   "source": [
    "bnmt = np.fft.fft2(b_hat_rho,axes=(1,2))"
   ]
  },
  {
   "cell_type": "code",
   "execution_count": 37,
   "metadata": {},
   "outputs": [
    {
     "data": {
      "text/plain": [
       "(101,)"
      ]
     },
     "execution_count": 37,
     "metadata": {},
     "output_type": "execute_result"
    }
   ],
   "source": [
    "psin_list.shape"
   ]
  },
  {
   "cell_type": "code",
   "execution_count": 18,
   "metadata": {
    "collapsed": true
   },
   "outputs": [],
   "source": [
    "from matplotlib import animation, rc\n",
    "import matplotlib.animation as animation\n",
    "import types\n",
    "from IPython.display import HTML"
   ]
  },
  {
   "cell_type": "code",
   "execution_count": 38,
   "metadata": {
    "collapsed": true
   },
   "outputs": [],
   "source": [
    "def anim():\n",
    "    fig,ax = plt.subplots(figsize=(10,10))\n",
    "    ax.set_title(r'(1,1) kink')\n",
    "    ax.set_xlabel(r'$\\Psi_N$')\n",
    "    ax.set_ylabel(r'Im($\\hat{b}^{\\rho}_{m/n}$)')\n",
    "    ax.plot([],[],'r',label='n=1,m=1')\n",
    "    ax.plot([],[],'b',label='n=1,m=2')\n",
    "    ax.plot([],[],'y',label='n=1,m=3')\n",
    "    ax.plot([],[],'g',label='n=1,m=4')\n",
    "    ax.plot([],[],'c',label='n=1,m=5')\n",
    "    ax.axvline(psin_list[idx11],linestyle='dashed',color='r')\n",
    "    ax.axvline(psin_list[idx21],linestyle='dashed',color='b')\n",
    "    ax.axvline(psin_list[idx31],linestyle='dashed',color='y')\n",
    "    #ax.axvline(psin_list[idx41],linestyle='dashed',color='g')\n",
    "    \n",
    "    ax.legend(loc=4)\n",
    "    ims = []\n",
    "    for time_stamp in range(4):\n",
    "        im1, = ax.plot(psin_list[:],np.asarray(bnmt[:,1,-1,time_stamp]).imag,'r')\n",
    "        im2, = ax.plot(psin_list[:],np.asarray(bnmt[:,2,-1,time_stamp]).imag,'b')\n",
    "        im3, = ax.plot(psin_list[:],np.asarray(bnmt[:,3,-1,time_stamp]).imag,'y')\n",
    "        im4, = ax.plot(psin_list[:],np.asarray(bnmt[:,4,-1,time_stamp]).imag,'g')\n",
    "        im5, = ax.plot(psin_list[:],np.asarray(bnmt[:,5,-1,time_stamp]).imag,'c')\n",
    "        text = 't = '+str(time_stamp)\n",
    "\n",
    "        an = ax.annotate(text, xy=(0.8, 0.94), xycoords='axes fraction',fontsize=14)\n",
    "        ims.append([im1]+[im2]+[im3]+[im4]+[im5]+[an])\n",
    "\n",
    "    art_ani = animation.ArtistAnimation(fig, ims, interval=200, repeat_delay=100,blit=False)\n",
    "    return art_ani"
   ]
  },
  {
   "cell_type": "code",
   "execution_count": 39,
   "metadata": {},
   "outputs": [
    {
     "data": {
      "image/png": "[encoded data removed]",
      "text/plain": [
       "<matplotlib.figure.Figure at 0x2b0f3545d710>"
      ]
     },
     "metadata": {},
     "output_type": "display_data"
    }
   ],
   "source": [
    "ani = anim();"
   ]
  },
  {
   "cell_type": "code",
   "execution_count": 40,
   "metadata": {},
   "outputs": [
    {
     "data": {
      "text/html": [
       "<video width=\"720\" height=\"720\" controls autoplay loop>\n",
       "  <source type=\"video/mp4\" src=\"data:video/mp4;base64,AAAAHGZ0eXBNNFYgAAACAGlzb21pc28yYXZjMQAAAAhmcmVlAABOwm1kYXQAAAKuBgX//6rcRem9\n",
       "5tlIt5Ys2CDZI+7veDI2NCAtIGNvcmUgMTQ4IHIyNzQ4IDk3ZWFlZjIgLSBILjI2NC9NUEVHLTQg\n",
       "QVZDIGNvZGVjIC0gQ29weWxlZnQgMjAwMy0yMDE2IC0gaHR0cDovL3d3dy52aWRlb2xhbi5vcmcv\n",
       "eDI2NC5odG1sIC0gb3B0aW9uczogY2FiYWM9MSByZWY9MyBkZWJsb2NrPTE6MDowIGFuYWx5c2U9\n",
       "MHgzOjB4MTEzIG1lPWhleCBzdWJtZT03IHBzeT0xIHBzeV9yZD0xLjAwOjAuMDAgbWl4ZWRfcmVm\n",
       "PTEgbWVfcmFuZ2U9MTYgY2hyb21hX21lPTEgdHJlbGxpcz0xIDh4OGRjdD0xIGNxbT0wIGRlYWR6\n",
       "b25lPTIxLDExIGZhc3RfcHNraXA9MSBjaHJvbWFfcXBfb2Zmc2V0PS0yIHRocmVhZHM9MjIgbG9v\n",
       "a2FoZWFkX3RocmVhZHM9MyBzbGljZWRfdGhyZWFkcz0wIG5yPTAgZGVjaW1hdGU9MSBpbnRlcmxh\n",
       "Y2VkPTAgYmx1cmF5X2NvbXBhdD0wIGNvbnN0cmFpbmVkX2ludHJhPTAgYmZyYW1lcz0zIGJfcHly\n",
       "YW1pZD0yIGJfYWRhcHQ9MSBiX2JpYXM9MCBkaXJlY3Q9MSB3ZWlnaHRiPTEgb3Blbl9nb3A9MCB3\n",
       "ZWlnaHRwPTIga2V5aW50PTI1MCBrZXlpbnRfbWluPTUgc2NlbmVjdXQ9NDAgaW50cmFfcmVmcmVz\n",
       "aD0wIHJjX2xvb2thaGVhZD00MCByYz1jcmYgbWJ0cmVlPTEgY3JmPTIzLjAgcWNvbXA9MC42MCBx\n",
       "cG1pbj0wIHFwbWF4PTY5IHFwc3RlcD00IGlwX3JhdGlvPTEuNDAgYXE9MToxLjAwAIAAAC3ZZYiE\n",
       "ABL//vet34FNwEDta7pXOLTLq5Q0PVH2lKZ4tkgAAAMAAAMAAAMAepjy/qxN+Siw9AAAAwBAgAqb\n",
       "cp/DLIHwADdL0E1reODMUD1RrAe3ctUDmZfaUWg1Kh8sUa+G7CBhP9Q0vPNkageh3Qe27iCFqKro\n",
       "OuCv7ChVcLP8Wj+TNcCOc6SU9aXD2C0NqOPu41tyqjIwYnaLZZPDFAX00L9fLNBQRBDRe9QVETym\n",
       "9vOUFQM+48+FAOBN/yfLrQVg26uVHvCMY6iQAffDaELDIyo+MFpyk0NXtFK//BG/zD7N/jO458Xr\n",
       "N3L4A9hl43dCsHgS5WDz/ldcVfFZwf1/dKHhSWKAG4D5rregP8ECjy77yhFgLO+w2oXLKTLNT1yG\n",
       "krn2auexmBXQFc0m0YM2Wd4Fjh+7Tv9A5MZ+BSoezVOikLb7slHqsA6/6Al+cr7llXLIz3DKP2jt\n",
       "MSQ4Tu0LS91pTJaaPHyuqd8hcCQfDgDaEyuVHjU7sNAtaQhNsxTC/AA4xiJvnDVbzbH9W/tEALk1\n",
       "BiZv819azJ5HGghXZn6JouHfY321cTn8Lz7ANmn/m+PAOcBf8E3YDsOPVHce0an2eixI1xboZsYa\n",
       "NYuzSSHsNBC/116Pqkf8I7Cd+E2xBxq+1aer9PGQyupfLFqoPz+EsVcTghVanID5sYVoPWaoJahJ\n",
       "L5JHnXbfLHC6IasqmoD/Dp5rW7/xlmnyhv9iUykiaAzz8ZD/Coh0S707QM3N2nvIgfwYmTbZiXP4\n",
       "U+vCwonrdT/zrpV80a9Ui47EB7Q5cO+ozC5nGeKancViKDIn8KX36ui81FKLvI5B33sz/Er6g4UT\n",
       "QrR/X3NOeeKJcH7sbtbCTSsJ3LejbxRg+dwIwPbl8DCy7qcbn054XfM6lrKm37oa8HfiAIU9lOkI\n",
       "uc0OWWdY2TzwAFor9jHwdfzxgjkv5k//U93IIr1w0sQR5pKurbIGE4ZIX2nv5MwFV87z16y9IqBI\n",
       "XAwY35qltBxgbb8UqzN2xm9qTDWGI6kbI7y4QURuXAYMUJS+XYoCefQFTcUhajif+Y/im14z5OUv\n",
       "VU/jWHpcy/MKqnx579HobiVoG0W4nCk1Ket/rVZ0qCO+GXA201jpHAwkgSEAOxhjiV9/XbVxi9S5\n",
       "xVpgs4hXhdREYLAdZgFoZW/eaL6wcBiOkTw+K/+HAfOa29zBQaFHfsimVvMt4WKqfboGTmsjyRKN\n",
       "lJm8Cnt2DAlxMBGeUO0VgQDgo6Qdx4OM96Cqb8lhNxL/UcFlwxA4ZCIRfhsnSWVFd7VmyNSZ4GHI\n",
       "whiHUGnLgZSVPLK8ZMUx08RiSshjEifLIP++tzYVidKy8GoQiHOv1uv5TEaAugOtpoeO9GRiCHA8\n",
       "F/qsi+QfwVdBWozFWtLOzwF/sW/rOsJnf/ZIwDJ7Vx3r+VEu99SiJcoN4CEdOJt86zt5/CSkV9ji\n",
       "WWIqOzxR1zSWeh1jfK4ygWhtYCmF7QOGHQCqz6PMb3F04OZPHQLR3r4pHsEihI1Ge2e7klg31RM1\n",
       "sjfohy1axFptNKZ2E3w+P8YLWmQ0JBTyWd6VWIGk17ZHjhr710JR7RmlQ6pPPnHpdWxKKtQv8yGW\n",
       "ZfeRkvNpY1T4az8t87V8oM3boa7mYJ8dO+1jh//uKoPquMRkIh2PzwiMINR2z68PcYWOvCvD/B6P\n",
       "MVMB7pf/gIROizTVdwvfHf/XwKUo0EN1P7ZaWCeohGlsUfGIwHYNp27fe6gaR86S3Dk+GkzLq33Q\n",
       "BUfQFHLxfHkEhKo37DfGiHYDdB6eCsxo7Kh9WyFyG5y0LajqZB11tkFDj0HiN3rJVNnn///P7E11\n",
       "Cr/yEWFgqw99i89aVehTHAsRALypwJCS+/qpe2sROtPFx9QuTPkDsafCf1I+gV6fEKKqqgFoA4EF\n",
       "eGLYlDWsbng2flBiSfeo7hUJu5vwT+3BwSYl0R7jg/7JuEBU9GgYBwJTf/63d6BZR2W276nZG79u\n",
       "/Gueme5hutRyiDz40iN7/Fb2BL0FkY+f509lxBnvUhnJoWUT47gn2qyjikDLsRgLMbxyytcmAZcM\n",
       "gqOjK2bWP5XQiP4p9LCZYjV05C+qpg6sOmdf9M87MCQx35H8ka5bWZgSgO9eBxcmeZVawwMMdwtz\n",
       "VlwofkCoYQeI1LtrD1PQq+dL+JXr/PF46Y4IL+nI6n4kde0acV9SurgPQLOow5POc/nSEaae36Q7\n",
       "WWTaxYFxfUNyKrTsRI3U1hFhvssOiwt2gDyjkO8q5z6A9yMPp/ZUtkH/M1H3FpbUSr6+3vQxglHQ\n",
       "Xjlo8z0xjowifePWtVYtLETSWhASUVUTauVdy25pdNkmlEQv7HdXOQJR9ob+cXeRDvjAAA4qcmkl\n",
       "vM9hvx94t+oESkIxpZbDX2arIiXUsL86d4sM42dEkp426YcVzmnG93cdHlkj3ymlSieikJ0kOWCN\n",
       "lHdX8TuRTQVgXYFDog6Jl8fOnGSp1rH0q8u6SEtQjz3K1M66Ev0TusKeqnrxj69hd0wwu9rsRTLX\n",
       "fJDhxRXIzwEoSIThVzmYZZibKhVOu8WeZ6X6pqu9WIQh1C71DzAnSZ5zxyyxXytCrloPJ0BmcXus\n",
       "oOlY2+A+EkiykT4VI7xI/PZvdTNU9DR6YOcWHLlG8zOSi0EpfK0n+EnCOKLK6y6yuFlzyPPtpFKA\n",
       "NAi6uuBO6dU0jVud0mQGGLlX2DStbyfwN4x0nPvo+ykVYPgPcUSR/zdEbHaJFKmdC18hAByac3Vv\n",
       "a8lfYPB5hL5p3a85tIrE1orXKvsPQtDfpD8L7Ku2pDXKOC4INvW+nGVtf4nT8ghpw7nFpQWCeUCW\n",
       "glJF0oEidpcUKmWV+Hu6gjsJXjOXaFJWY8ocO58vmaq1bwHLv5Ct1vl/4qvB1jWWw63tkUIXuYIh\n",
       "LGfP5+2WK32rsuONfiGFD2Ekcdl1FZC8Jd+eIGHfIfeFgAaOXDI1bGOO+P9VH94Qi0isLVv6rvie\n",
       "kzxzm4liake6xTEb+4l4dGHUu4rzawloTS6WDpJ2GH/cc8i79LCXCzAtX0sbGZSI3UIHRFXuyP5g\n",
       "hxCiugoO6t4Zd/GVSIIBXplGRaBhblio3/9tFQf3za7d5YEbez05i3+zHotYEAo4o3siLOJHud8t\n",
       "5zQ52vXA8V6grlrg4uk1J8C9wVgCoBJi4b+JisOpUG3hHPH0OOR2Wl29ReRShVoaufyoFXny4Ihx\n",
       "l4P9/jDyWFmlJHj0EUQylpm7dQfia3h5Bk/Kyd0remyUsbqt84uLmCr9fmKzalsQdcsby35BSzAz\n",
       "ti3xxPZ3EjGUvdqsvkPLGX284ZH7Den5SvKXUfux0QuznUBHCYzdLgGfFenbcAAA3ESNPJm35htB\n",
       "7swsQOv42zIN0fip0ECdptv38Lg7QWQtAdb6Y+IN67PLIxHQwIUtkt6l738Ll/xUA10hVLchsN4F\n",
       "W+RxxKftO47I/1p9MPlwnYhAhhTUwTwryAUklJpMDqixY0ye6MbCyhMYqG4iwIUrv7LUXlOprCHa\n",
       "/Y2c5MXr6klCdlsCRlaS+ZGeAhJ+2XszdcqiXrzJ2eOkXHHrmHuGJMKq+a0v1ZGfgz5X/AWWFQqu\n",
       "Y0YIh8uuapzuEvkLg0ZfY3OcJnHRqOXtaIXglPERfx7z+b5EP4ILc/s89dKXot8uUxC/a2PbMmIQ\n",
       "1wBF47ueFl/YK1gR1FUm9ZHIFWbxnCBItrtcMR8zpzxlaesGIbLVFdW7g+ATnfciAxT8zNKbbvdv\n",
       "NWbNF0nf0tsamnfyT0KUnBB6tDbLBWUDZEMpEQDuOy83OLPvBpjKugoZRETa9xIN085ak0BujpAV\n",
       "wnQOjB6LXrcxdlL2ME8YDrqTl893pYa85MHEpAd7NbWBCKkWjuGAgiQG6K6yVZ5v4qcT+KRBrQIN\n",
       "euH1iM1uwAfJUtW7fpALXm2Ckt8Qwru2khxOOd/fZ6CPpSXpo7P5pCs42VyO3dv5Azcpp2q/fEEy\n",
       "SRRnCFnygdxyJQGoeMipTNqKoBaV/f5qgbtjDjouwyuLKiMwIMZTcuI/LnDEk1QvweXRTwLjeciU\n",
       "X4qcPhdZOBu1yoAQ1CMQwYavdIlyVVlgsmiiOTvbXV5bcU1AMXJfl41L9HvAG5Drx038ykgDXZ5v\n",
       "ZAQrfysrhdvMvhAIEoqSZO1Sb+jT941ca6QnZLlwkEXSujq0iCkf/vusHCm53VUuCZoTBwSwSHzm\n",
       "jU7EnCiEItJXgyKS+ELAX14n9AfH/a/SLySAFI1fjWXsYBoIU6Rd4N0JgkDrtEfcH2rzGOCUe+nk\n",
       "uJl39i6Qrh5DaWJFcSWlamDXMH2k8vyhnaQHe+r2ZLJK9nPiCtfEFAOg7EQhOkU3G0RnVulNW4PG\n",
       "HAJVgR2wUoAr9fqcBOu4Xo3umU/pfH05sPn0WXDFTCdGV2ZN+hkLyOPkynDaJxwtR+ZyrLsoNxoq\n",
       "Wa6qr/fetJEBajiZi8QUnoOBLNS7pd/u47er6GSzSZt3Wa5NoXhytAGEZvu8ULKV2Hh4dTZhmq32\n",
       "aKdyjY6Ka6NF96+qoEAG4y32CEsAEs2IKFXR0eG87WADIDBqdQ0IU1gBWOhurbqAPjII3LbjJrXG\n",
       "w1AzGxIFS4Mt9d2OD9oLuXtG9PHyGEULB9val3OQRcQO8lQrDIxb9Q+MJ9RsNGSjqs44w2N0mZyr\n",
       "6uRzJfjIJz9YVSEXr3DectP3ty7Ydnnj52jcblAB0d+35zkZouX04oAdYquJAe0CyYbJeLLfkcFA\n",
       "FXqIAoQB15M97L42mU/JNz8l6z3ZaNRorQ56PBKGu3zkWRG+4541C/5hwSvZ74vFxipj/ugEG/OW\n",
       "MXZKBCVdT9J0Pw2zTP8oiqDqSXc7KBg1hdJJ8jfL71HeQZruPttUpfgHysI1MDKsbL4M2rFugE5P\n",
       "/6uFkCbgNVBxHW46v5yjhm9furXjanUk5paZrMIWVJr7g54cXm9uK4mj8Lr0kzYu+TE3wkwTlm77\n",
       "JGyjaU63v7+GODHaNCIc0+t7pxw6ycuEnStFyVbNoNzAo81RQjpI99Djfmwzfwww0ShfTxuSHqli\n",
       "ZcUK3f8Qr6eCxD1cTO6xXMANaSOOm1hXnwNnHymeJd1ZOL/9uDU9e8OdyaO8uxt5rWvS4OaPWEw7\n",
       "1a+Xn8yeRyh53f4bw/tNg7HRQ+Pk7rC03kyOPq+jX8fTu1Zh/CbQfjf034kQPavjyOyrhaOzSLgz\n",
       "6Q36pAVKkbgQtDlPI8nin0gAx9OwPOdP98XE+OSA18b1K7hFnK6wUkMD+PIy+r9t4J1KJncktWb4\n",
       "QyFQ6r89G3FCL/nbEpsraZ+BIXNFtfe79gbdS+yUAnaTWqJn+I1j64GXiSGyt0eovfwcAhGIjM2Y\n",
       "mcR8S9zviOA4+i6c8AsOAnoyR4EyliC4Cz3FSyLyAPFFX0zDLLLmVbRoArVcjxb8XyGwYYTJAQ1s\n",
       "DGYRfSIkgohbR7hUXbCAe525RThKHmB0DXnN/gUczWfV7hc5pku8G5KnVRyM3y502b4Uks29msA4\n",
       "o/XhBF1MqGLnecKgOY4cGDM50agLYzIv4jnRs5LofBkXMFiCZ2PRfffNKmZP0vJwKo7ouRW6rWZE\n",
       "AslwCfWs4MnCXq5ynzfHjOhH2OAGFF8BH9mdMGFRSXI9WCzGpu/0oZ1eSe0OQgD2RxJAW02NEGn1\n",
       "/kEsBb7nRqm7nXrO6wyRpa7L3GOxvU7s3c45u4xu+R8k3l4WkTM/2TT8QdL7tOoPxbRgIgqwzYSG\n",
       "6J2/L7+/MbI4l8bDzqBP/NCVVgs0VUN6KrD6q8tM8gZVG3mflOnjCkC/GU39P46Rge1J9qWZjm8J\n",
       "nDjBzEYmxIRWQWsRdpdoPOtKTL2yRAfLSUgsvna4CcGG3J0dD7MzbgAUFkY1Hb5YtIkA23Oz1m7i\n",
       "ea1e/DOkFGQIWtE/9djO+zOsO3Uz/UzIFPf668QvZbUWEqDbNrPO9S0d79BXGZkTAiPdk5MUyMhK\n",
       "t7O/JnvSTFUUs8T000Khqd2F+sLYrLGLe+BcQrYLvHfC1dUE+BiO6oN1lZrqx6Fw1CG+E+Ff6pxV\n",
       "wizszlI85edPngLiDO0Ts+A8XrPmCQG7hUhYbwfZlxm4O1AqVmgpHssOpp6Lz6UfTacwG1sCu4Cf\n",
       "QCpyBJc7JMNcRl2mVgCbPro5l+mzeMwP96RFCphCUB+ue5kWm6Fu8goHgDFXbAAdttjZS5dUsw/+\n",
       "Et01a+2sWAG6vN7a8krAI7mfz/XD/OMHZxXU4H9+b6hS1bfxZ/QppIzN++Yd1qV6qW3aa9hKiM+n\n",
       "MaiIhkEiYnerbvgiE4hrbKstTLaHmEf67RAd3RIJEm5DD+87wrOUKxJzfRIROKbf40bwLAQhFkQ2\n",
       "dXvKinq1QPCrY2b9zOM9qfVLIUmptVxTiDpVup8zzajY7R7LS+DogPND153vtVvRmEAWGA5l2MrP\n",
       "tZszDA+15aiVavXu53vHo6Hrg3moUMz4EnGHPME9fjjrW9dzRxpfCK9vm4jnBa3oTqIMTTSvb0Mv\n",
       "DnT+jMy9j1kIG7l4FG6P3E+sGRkksIkG1nyoRH8KVEb0ghdtAPPzt6cpK+dzW0PEdyYB+BU8TwWx\n",
       "mMyTx5qwTVq5l00VBBCCpOO4wiIDogDMJJdrsA6pH5R6dfjb+NyncaVe06YT9Tk/iVsl/1tOfKqb\n",
       "Phcsq0fqCUtc6b/bPhXtRkRQjK/FarkUwEJ6fuR7jnIHP64Z3SaDr3qUuqj1a3AUU1jHP6I+Hq3h\n",
       "AyOmtY8uXMRQAF56m8dFRORR57G0mKNqIjp8/JrXdfPHFWTU693BuepM/JWnY+p5SD35vH0ctORE\n",
       "WX/Hzx+r0kLLZg7CQPf8j/RLYqJ70QW6HUA3NeIs4BPM1gZTP7/HKXtgtxbW8KAbidaQ7nlBnDmO\n",
       "xdJHXXM/vncYPA8VY5zZuRnxxrGHQD5Av///M6M7zeHlY7+Cgahoe/dWFwGRp50TaoXwdtXkK92t\n",
       "U0ilhxjq68CaJSoYEak20YNDq2X+Q6fi4pKnOx00oLkb3oLQJl/CovvkeKb0ZQ5ooegm1YUWIRU1\n",
       "hz9UW6QMTc112277VfGSjWbb/sKL90IPmYjzh7xI9C16dP4GjJszA8Yj8Ud9OnIej+SozEseZaTB\n",
       "KsP0jebNoLJ7vS41SCdboSDJZAFNUZQ5JEcpAClnCOMT5yjRX9LP0VgnglUlxH/86sWf+3Cu7rKx\n",
       "SO2pe1N404v5hdkdwpO93nljXfohLlMYQ8bLJ3p+o6tlIH4eqYZP1qxMKNUwURFTfqDmRNxAygy1\n",
       "/RFI+Q53ryViFi5t5sAsIH1vVKWHL6e0AN7DPl4ZXD22vyNNRCRTU813ZNwv63IEV8nUHmr7WCDe\n",
       "/WsljDV85HsejuYgkMiId4j6ohMnq4V54vnyHg9o1ucUiUDMwB2C0KCE6CkBqnAsFq6jmxZilgJF\n",
       "3nxgN/9iFlxlaF8h6IRRR8Fr99zQQ8fp/UgWbACgkPuqU0YA0MD1uMdXmrILBNWIMlbzxeYZAMX6\n",
       "IRBmKuHYkwg0aY+6zY2aPG19J/PP0i7RwWBKYMkB3uFMFkvZQ2ITOO+2T5fXGWC5qGosm4IuCrZW\n",
       "ZJo0Q9bxOBXOMOwL0AS1MT/vpU8M6NV7ICEd/34ICrCUoU5Fymrr52ODzHWm1dcOaJKJiHRTelrs\n",
       "BN7BlD5wJPa31Aafp/0Cen+uxHnq2+b4X6veW3thuiFarcstjFoIM+TIYhPqTEs4JCXTWCfqOO87\n",
       "xxPOjv8LW+h4hw8wgwGlZkm8yq0H78QpDLDzMLRfUeOcUoWpFcH8zkE75tTgVAXfjX0RutEEzj9Q\n",
       "+aBnNIMG3AKaeyqlQLo4btdyrX/idf+VYcM2jTv2H/Cga24h3i7dPIvWNJ0PnP6BcKWTrNa4+cJA\n",
       "k3u40txHgPv2r1OImPTOkZCZXQJsLOP+yiZj666yy2kqdig76q0aqmi+AT8lzMLyYpjmyQFvpN4r\n",
       "9e3Weble+swPSZXHrU88n7U5WKwwCPhecQnKZ36PXShloosZS/EVaNO8LcaD3F5PPu6xvDMTVGN9\n",
       "6PgZdVtvkxyOnBowU15kCmI9oEGB+EjaUWwrza+h1BuhZtfi7NgEbyvzg8I5FL/lymLFrxdpqouy\n",
       "oJaW2tWD/V9W4QY+2MH9k63CJKBk/+kydE6prpI62S0SZvgmcnMmuXf17MUMxWw32jVRZTAkFl5Q\n",
       "vnmv0kMANAWA5WiiUxN5qxbV6WRjK4K++BP63CkIWNTHVdVKqtO48AT4TMAI8DFk3TK4rjk9PQtv\n",
       "ndtIu09bVKP20eq6uJeBDKBOm51ZkQ0SxXhFne3p5hyL14eIPPpbGWm5fCY9ovYPvrZASKBWsGx3\n",
       "hHel9Ff54oUdXoqNGmO+35gh64psZSSYdP7sGXUGjynANhRAzE7HXSPfdLyK+8fT50E0sPEQBZDE\n",
       "5SywhO+LHuem6xVvXhiNIODCGE1pCgicCP4IEI4b2pQqxI5UYxd9uE6PP+qOi7Os8GVSS9ID1mvL\n",
       "Y8jA+LgjvZAoWvIprS5muX8aoEDzDJGXrT4dy0V7GhufRf9kPoab0d8aWOe1BsQdtVQWKr1F4TLq\n",
       "8rWj40stN3Du2CdyyCiqt6DHJBAcSMO+7A4zdUjwDy9N09J2+l4aHZxbC0PHk6+EKLQlu/mpXbv0\n",
       "kHnsjJiRufpgjRRvHXiVnxdIsNz+jGhlwyZCs1nsU9HBWpedhnd9Ckz41QZAi/MpbhPotpgSCMNt\n",
       "meZ0JeAw5/tpllGbwBweSb34TGWs9+9ClxcJpxf40wwRmHzenv3UNrwULadDgjdX/xeV0zGdQ2au\n",
       "TYZLf2xP1nvF6WvB63vuYnojI0GKrDzUiEZdwMrC8HsbonRmhfxWuVTjjx29rggfaG3qbxOK7CRH\n",
       "/i230z+YUo2yW7Hb2LXOsac/V3oV0q9jJMXXyvROoCUteSG33StkjtKDmAj9xE2qgFopBpSjGzsg\n",
       "rxQUjMIkIlFectEJZYlH+HnH1s2cTrLsm7h738yiIPSZ16YMtVQ6ZeWwiwFecJxtZboZ52gzLBnU\n",
       "ZXW1/hNj7Gi54XXr08wTfAygJeLFYVX9LjUNHZWpBGr281k1C6gLiRFcbFZa78udFbMOxpuEjxbD\n",
       "+z5EFMSXQthJwFX9jlXUeJkwobu6i0fh5LSRiCfK/cnlVAT81pv/k0fAdjH+n8+HXE0UUAe9XRoP\n",
       "Z1AXtPd5LEhjy1h1g1beEtXOxQ605WOH0wsdpCM7bxn3qgyZBRbj8nL7SDryMVL3dBXIJQY1MqfM\n",
       "hp4pcycILEWpYwOe3vo3+OhR/gqmnnNq1RDzrKFG8FiScnfnjpkCpFggS1M9j4KCf4pyZMHQ7NzP\n",
       "5Vgt8ozU4tuxbnJpkbOiFOXEWtQnHF6wjxtTqHF8psKoOAQd6gEn1r5RUUlJkKOtT60DzJFolaxq\n",
       "OG/ct41wCkWknkP8E7LkgGRWvPaL1Aub2fIHBp0/+d52/5UTnL73MMwWx9ryb6E1/VjQBTG/e22y\n",
       "YKZBJGdwtAnXLABPHAa7t6M2BxjEM7pI+2u9PVLCwQOioDGhvzYe0Rf8eG4v1yoKHYSgxX87S5iu\n",
       "+9/uYXR/NKzfNEmjtpvO/hVjU1ch7raFOkV8hTMjG02cREgWzJcMqNpvLDsa0lMAHth+ls9Z7aDn\n",
       "hmilY+yuEC3WDM8k9MEvtrOReiptbIvwDbBtreYhXVD47lkuJIy2qhtlBlnKn5zZXPtdbbL9a1PK\n",
       "dfQU9JqE2/OKAIzgBs3uZlgUWym/kWGKUNo1z8psDXzWAtaTrkGGXkBhLwZgBD3D+JXk0nQP2PRE\n",
       "UrPfEaEUPCN1ZQQ9zutoHyoWGMtaNL4FQxKJMHoPrFSYS1xaUpKPdvbd4FtGJqvTalsGnTQ3ZcUd\n",
       "WXAejtJwyfNCYWWIjUtRg4JsNIzaFIC0jBZL3FcAwp4PtiOGn8DSEu5mU2xgEg670P0VB5cBSSMb\n",
       "E6+JEPqYwzLk5kkyfZgk8DFx5WK+9QQC6IU7DRKYCkbkBc2AXvT3dlicUZ4WkD1OcDFGl1HP9eip\n",
       "YLIFGoFWqgQXxaXjDxxMOKOj/cHu5s2+Q8VNnOYvk1WI9pCrtJDoRNj2ya3RLjmm3p3zaictWUPa\n",
       "EDZZsK0m2RWKxlYglrTNJB3As05jFmdOTI0lmbIz1rq+3Qq3RkViBE0OfAlCu1pH3dDyfRRTnq+K\n",
       "fZR5UZvOB968gmWaqh/slipAThhKTgvPKih8yg5aAS0fJrUpWvqFUfuK//c0rXx5CUp6xcntTgLv\n",
       "j6he4nDaS9WEshh8N7e6/EZVxWeC+c9eGYOTLMzQ/Idm/5WKL16d/jdO016bEvEkAInhColzmU+A\n",
       "cavLgvupTeO+28ZidZ+IhAtgjkGXd/BSboAfoiyTk3GKsEIRHz5oHEjMmKpY3X7lju6uAAVLt4xw\n",
       "tXWkINQr6is3TM3Z6SLTQ91thq86sQEZaFh05zFZxM4siDdi1cEmwrzG30cNqk8B/JdnMDp5/wV1\n",
       "cwFaSbAika54WXgaM9VdO56dFd2SUNK7u2fq5dyf68rPUtZwcvhUpWP7cK4zYne3XBdR7eF/Qm2z\n",
       "u2wbnXqQSrIAzQJy3b5jVYP8CRCz31d1D4YNaNxUjd7Rso7m+7LIGU67uOV/ntyhDXPqQ9fNpN2D\n",
       "ztEddfL1HIMAenzVKMwEkGhRn2pdAKd3Wb7AtnvIi9Ym4m0fXb8CpDiMFVOw4B10vU7YL5tIXnA7\n",
       "ODiYmnmcSWUMLXPd8s4fz9dKuKRjn4SAf8ThZbmr9lXJ3bsVeJTeF6U4enMC0pEiPG4yMoIM++Ow\n",
       "4zIt/uOhpBRwq//Nin9xNw7eSebiKBGEQZth0GTpLDJM+YghUwbhs0ynYlbmXDizmYZLovyFDwye\n",
       "ZxIB9gwFKYL19nB4YGNvu3yBvNW0RLJJaR09SbhVDEFXwTsqYuZoV8BR6I/7uVZdlP8nsvTzhVyl\n",
       "4qHy/IEU0gJ86f9NPGul6vBWcqEk/hkmKqr79VkL5uUtiteb4HyjQq2kVzvTlZzZCeGwksWD8u8E\n",
       "2EpcFu3+2BvtRblrAyLQH/L4RYw7UaZQopP5vCvyY3w7UtHXDNKCyx7N3+cIJpAGaYt/oCBuHY01\n",
       "QOZqUx+M4RkU/tp018WOrlGZ6pX/O0XjNB/2iZZNgFWmNXRbNfU2a/wlOd66nhamrY2U0XaJEedo\n",
       "jHqHXXPl/j/n9osF1sI3djBFSy1Luo1yBNqthz2DFCoaz70A3J553yh+lRaAJZFYXf7rpUucp+Ug\n",
       "ccK8jAP716D0nHwzZb1VxMkIjlMSkZhlHxzewSL/EIZC/Ozsu7ADftaZJ1jb6JS03c3tO6meh/Dm\n",
       "QtbPX0YYF37/WFSfJPLpdsE9ifcwahM1DmyfphK5uC7pGuvkrd1BxmVtjilnZc1CbWkK4cjXAVDz\n",
       "fXFw23L0Bs2cwP1dt+nhQA6HRKE9xBEYA63Y23DHDeR4eHfDmO51KIK6z+QyrEvxtxufx31EJ7IQ\n",
       "Ne0FBSQvOtsJThDCWXabOp2vuQeJwjnUZT0kfkPU4nxebA9LGC4UfufSBzeucP+sBmc16Go2w5bm\n",
       "9dRVFMWpNdmPfpAZKujqBF//rZu41QyAzzuyeyztgchNT7/zUftXCP1D8fe0MofioB5HZphml29h\n",
       "ALC8LojB+Q7a6/i7GNsnIiu+SNTYgZF/y9ejz82fNI70sVgiG72mjU9HETWasG6z76Xfo1FfoAUD\n",
       "wAbpwMb07ylUOHAKJPrXAKY1GowBRHe6B54p7wGY94uKXpYB8fLHEPsQ85gzbf98dBTh067gSTGa\n",
       "RLQNiZITir2eC6HR2l6nIxcKE6K4Iy29xW00iz9FhYJcornzmF0Toj2yyMzXaNpydiNCM2ogdgzB\n",
       "wtMIRnMugpEhPckLl8ra3VJhfY+3fDFSEJ3SasznYRWJRBn0d/B15pAhNzRjFSODmItvXFurhp/w\n",
       "8DkOSuXNPpyIs0WZhCSukICo1n/86ohf1OnptDdjGJfOwjGK3BaDTNeQvyFv2XGoYS3Mrfvs6Oav\n",
       "qwDsq+gQGkSpvoiWHEfp8qELsUL7U52PkOSapxk6WF6iZfUj71JxeEQfQ4ZTsn0nEmUhc73iLYvA\n",
       "ITf16UjWSNhBaCVqpvAXRKpfF3ys03oli7Q1fIAiemuCRjs9DGcTeVoiIzow7nWxE3Uag/I/gTbB\n",
       "of+vxm6pAJ1SpD2s1ft54obFrWlpkJCp4cxUUDkvls6Rf7kl9LSVpc4NLT1TwYTR/k1vjwNQxbrH\n",
       "Cyu+GAJ/ghywGg8Y6JjjubbYsEgYGFGgDT2mmxJtAC47dHRikahJqtko5ENjbzg1GT52bato3zKa\n",
       "mlmVFFxfIbbC9lN/ABiZ1IISwvlakoH+/pfeWQ9hvW+U4n2YKUkOh5WWZ8uFuJ+ro4OcpdRUFZgq\n",
       "VAAAAwJxo4D1eMbowuPRnecoziRPZlG8Qi9VdMKsO9kejFxZgNaxyD16DcXuDPoBFbJPpIXecJei\n",
       "RlB9T0GG3CM8PRJkldMY7ctO0rmpSr3tw6lri158cXC80qY6uCsSBVEJN9OuAEKHPDDZsOHJrNdF\n",
       "HrElcQsCneaHH1aFA4pZxY6GAzZUuOk3uHBkOpRlQvxCFOIeAAOFmZENbO1TPWzseTyTQSN6eYlS\n",
       "aAmeSRZNPITlLc9sVYUT/OlXWO321HnXGVn2SwH+z9oTsrQpCdtVLbcKzhuO9+O6/GrNE67gxjdc\n",
       "Cb/sXnaxCa1BnEJe2MidJ/ocLLAijUW2/VTP83xhD1v1t98KuNxvFOfA1pQrreBlXw/hM2oAZ+mj\n",
       "v+QOLS9fVpUJEGwfM5CkURx+ZwhEuwqc72CTI0NhWW7f5iG5NbSkiOUvylQTv9rntxyLROr9FZff\n",
       "cvxWy2xqSiLhhzfgBcAieBoB0A4Kwjkm3vIyfaRhU5FZQYBZc1wglElH1QekGBC25zz5IONlm1eZ\n",
       "5DWKle8S2sj9JIlT+dBXks8M7b+RZ4vh71YAECK0FrVXWZBE7HqPHleOT2WkZGzxwartIm82IukD\n",
       "oZ+GKnNTakjfRojyGn38rcs85a8CIQ8IOTqXlXK2P+g2pWq/H3pl9HY4egb0qz2d7xlmhDHzj63k\n",
       "Td96szjJ11Il+IeMcUc6iE8vzcvhNcFUpx8UWqZ5+Udk8QSY5Z3WGwN2jdVUdl6JISpOsWCEbmgJ\n",
       "eLZe07ZlfbSxxhlZYLV/q6+qLsToZ1bfddL9BmZt2dVK5fNwAgc926ZSJMiDSInQWeWxnbmJvxpu\n",
       "7w/PetvMA6NwEjqsn6k/muKURujh9Cr+GyGP9kWHvthupZsESszu6btp8clFtm33yyh0RaYVPos2\n",
       "s00BLBXcUWxDKoruqv2XJT76SoH7uHGp1mTvzqysot/pcyNb/Efvx0mb5peY8rlvNZGWFSO5gNoh\n",
       "urYcFi0hMH/+tOFdOmPnCJzEmBa3FtP/z020fFnFeKICbqEBPu37oyShhYh+5GNU8NNZWzOW0YkP\n",
       "03O+l212TprXE+aV0mn8oGSDe4oc6Z+d1TavrxsJ1GGp/cJtkG4UwKBLcKHRqdpb36m+S7Q9Pqpb\n",
       "UWpur8AJXEE2qdE+PjyBSz016GCAdT1xUoqoHte4u90sq2ZWcV/Lxs3qING7gnW7sl4bkejWrt/U\n",
       "nrQt5XlJ+1oI+NyEkmJ3MJ4KdoZ5OV/wWvWvrfyCt2VFIqnPRhI5Q2WONmJxnCcWFlS24Ei/xvmO\n",
       "aetaMa2X++Lah9fZznrxE0jgsUwe5FiLlHlpyKkp1s/YWS/5MaJV/seiuD7ssglsE0w6o2mD0+TP\n",
       "vWSOiJQj8RYa/PyL3VK7zkxeitOvrqSSVCdhEqfjkkQn6nb4ML4j4htSWZoKI4RDsQfyzDvXvQgT\n",
       "tzYXsLWTaPYwC8e1NF8pKmzetx+LeH0F82igcTUcQV8trMDt+7E41tYLPIRKSpgy+U31oZMNNxV2\n",
       "l3b+u2l8hpP6/xkemHOphnQY/b/cj1doSTMQid/b5uAXTkwOt5kUachCY1IXs4t6k8roc9kOxLpH\n",
       "4hqPTaLpqXnvaqg0vx1JWf3mfpjyLHehEjLDdFFJuTq9YSVYyxn2CxRx+AuxTTRmlxffu0NLwoh3\n",
       "vAtbLXVRPMSbd/j7fs6cHEt11jUc4NPZBsoKQWNbdj/V7UIP3GjO8a9D/lid8ZbD+YgfBTEzA+sE\n",
       "H4V23S2DZZgl9c1RTBWLdDodYBMofuyWjygGN6MjwipBFZ3QvWP9N7Pg9QrcZHI1g79bp9mBdlt/\n",
       "HF1qWR3ZSCwpJaHI/bKIOdH9zXnDRQRRprsfny0LS54j/coMail9dwlDNAzwGigr2BFP33+dqM3K\n",
       "4SgFCVchYKsRgw1SvNskNpEOSQqYL4ZBsU2iL+K7CRTZXUibV5AqSYtqXUN6WGewy9im7w8i2FZf\n",
       "H92gnyVV1A+kE2JySlhJB20irh11vQcgZQOvecguL+gNEB5xDCbL0GPVyB41HuwBXVA8UOwZYGr0\n",
       "mFMize/hIb8P9ziC+KIxRkCQTPELgmAeunkI9rF5FisYnRikg9IM1na4RasZEUrSD6xlR2feTeKN\n",
       "q5H3U0sAI7fmJpnBdZVIKjAYT5EyQVjNFqfUpEsmLR8t5tX60SM8H/8X42EnDNPmWCXiG3Ne0Xe5\n",
       "Y2daU/IsNvj4RmfN6EbeEXUPt4a5DXwE9wO97+d/flfyQ06XI80Mcx4A/PnMVJ8Trnt5D5nrS0/z\n",
       "7s1x8A6Hd2NnKj+sYcDZn8TR2Mz807K0U4/B1XJJhkzhCjOhYZoF8CfPRMPzCkB/VSYMOfP2I3Jz\n",
       "TrfziAMStwZgPmz5fnCAX/ZfzJjHJXDhv8dGcIH+KXVuTTGB24HLIaGzaDCeMUjKYSo6zFn2WgAt\n",
       "iReSmMAA/gOZQhHeeXsWbGVjEgtFa++sYbb5ytnuTb2tAGBYCA9ENRMQuP+g45xYYseh6sSKNVV0\n",
       "ijGxWklFghTS1TF1H6Q12toSLQUSHBh27zgIzP/cZTRwWYuKWaaZUPvDTv0nT7ky/1zoD0t6cQhI\n",
       "tDH0bG7cF3/g+SKMO1MKEQleljOJWnxBJRsGRWhoIHT48iMghPWJCMycxKU5rK0qRceWKNfzkJwc\n",
       "VLyu05Tn78quvyFplOFDpTecYy6hdyqaciZKk57HjnbxheRh74z+qPCX23sbAt5Oi4vGvviApJSc\n",
       "O6BTGpESZImrcOwX097oiJ2bvRWIbCTC8UAyChIWTiA2gU4W8I9Xjfa9Qf6clXUPP9tsDUIKwFfQ\n",
       "qf5UY9h6GvguCeMOu/Vyf799TAT6ApuyMiAjTkC+MBcdbAIVaRcGbWnVfzjOfxN7aRskIIt9sbyB\n",
       "xoofz6Ua/hmwps5v+ozQ8aKZ6aWtOH2Urfjw9klEHD1Y+174zL/g4RD4K4TXK1GlZrV5fLOqAP6w\n",
       "pJu8waybR50pmS1/ET/ak2sVPfg73ZhQ+Q/rsmoho6kKFd2CXhwv9XmnILNFi+hYI94iDD1Yll6x\n",
       "JmuarZElByZGIHxXDywY+gNzMEWA9qVY6BTFKACINWoQbRCUzCU/T9BzNHzVZ8jBxWvN2xz21yUo\n",
       "Oqxu8aMJ9oaKrT0y8UrwgAgXTO38uP3l0DrkcdXZuJDCqhv0ZS/Zr1AnU5BKBYRY/MuJ0poCAP1k\n",
       "3bGSgFNimDLcFhnBWX0mxu56TrVS+csxJCIyb6dVyXuQPb+5lMovy58jasX56kBTbEz3F6ElyGzd\n",
       "Zf5Yjqpb6pzdeN82BCuGUDje/IFEAhmVSle8nAy5tqlpEOCVAyEwAAADAAADAAAEPQAADzVBmiNs\n",
       "Q//+qZYAEIXccAG6DVcImytsS0TKYLOYOpP7TfMC/mWc2brXdq6tQSHm26bAJoU3NE11VNPbfkvd\n",
       "fMbqw0WjeVeR2KPq1Lu0k/edY1GHZgaTHXZ+5OeC32w/qBqoXlR2nBjnCUE0XzRz7I0DYCEcWpEE\n",
       "Glc/hk27QXP/4HvwknQw324kZtOXs78Uvtl+RO7sHkf/pAfxSUJcCzh/jfJGShURve++IHNIcVO9\n",
       "EHPyasnvwb9imtzvD72B+ZfCezlHsvQxXXIYxvn8N4F2GgYCZJ+R7I+pvWT4DNdb7pF22RAHWP98\n",
       "Aw/h/C+Cz91jJSL8g118hqFa3JxOEVgI+JphUFaPDyCzE31pWBBZ/NrJfwlBL3luj5ap5idtlpJE\n",
       "BP323Z9dyLQXnH5YlqAPIDdkw2KMhgXLHgmf1QDkTeNld+4r9PVLgBKJnHt0RXkaostJ8ZlpL+oH\n",
       "M5CM2QZW1rSFZUqoLmy0c9zInRtnuceg2ZL9Z3QJ/6kQkjcC5rE4vNAnyFDpB8Ahwpis/Pob03Ub\n",
       "9PX0GceJDCeGFcNxOir+4yKKA9OLX/1Amb5spaF/DcTnn8emSqFtHP+C5GOKNC4+3apJ3FakPQ7t\n",
       "lNiqCpz4JfNWA+ON4tnYE8km8jMh/9E6W7eyOvtDGJ6HpQTC/yRBqk7mqCXVdlsiW0RyOinm++A8\n",
       "qejjO2F/db1rAP67KGvxh7LE5iz381/ALib+PAq3skkmVk8y35jkDjoHBuJ9eC8E0KPusoKFf1yu\n",
       "H/z3+sBvFlvkUooKV/fkRUKUoCLlE7WCXkC8Os6FikdohLM02wfiHFGdziNZtyEX4a6SVaHxVHG5\n",
       "QZe2PQUJc3wnlgn3sI422+zu6ecMhwxeGx9KzmLon5g9eVU19dF4O1kRQOz9+BqWc8vUrq8ly2qS\n",
       "46132ZurSybZA2H0A09xOlVDrFl74yvXiB/DiRa5eovapHMssmsuhjWQo8WPxdOxA2Lpvku4itOq\n",
       "NolAa7wJS0Q3wVaUidq9OWxHbkl3exhhr2PYWeZDW6EuJ+H2r3wm3T9QZTTRsx3GNGJ+ecifQX9S\n",
       "eHSlk3fakY80Tqra/5SzvnjxmaPFV+PbcMa4H0XTDrAK5KgUtpJS5oOulmaa+tdvJdlrqJ5buJJA\n",
       "vuOvBzHeBgA7Af8yrtXOrOKv/nx/uJygI4mQw6ky8Mnx6Iqr8lnvtg9O3HS9Mk88zLF+18d8XeSu\n",
       "WxFCZrFW5TTQgK026LcplGmJNkSXTeJOfRvnx24HYQ/N3pXp3vsjHumsOhZ2o2x8Tv9vMub+bV7D\n",
       "jLnwUKwTUWASFwEiZQZvseG3TzfcpnxA7eEcyZ5m+rxbHpFA558Ymxnn/HtIbeF2VrySsWzjB1je\n",
       "TInuy/RlOARufyEkHGYMOC90yg12vvTHIqtYwF8aI+2XcnvGehOhY6VVajUWDVOGyoUJxQVOfvax\n",
       "cVdqU8Z7nCWezO+eAqya6nUr3+OYxmr61e3PiVedjV5z1PoUetMgx7S/N6jP9ZUyMoUFX4xyc7bu\n",
       "2yoF3pGmA0j6MSbz1vBgOIbr/P2kKHTdQDr+UBn7VYBLCd8vx/QEcYMun6ticUbuxVU15zFPwMY/\n",
       "Am2Y5nSjkcP1IguUl3pzLJCmrvhwz5dgJDJOT3VArzoIxwq4qNnAnz6oA3g0083/9XObnNwPumPe\n",
       "wIPjQ6+hEbVuEe2UFIw77+F0aOJzZDtolqupuE5PEc4BeVV9u/xAD+dzvx3ObJVIDTpr0PrUepns\n",
       "b7d2cYgMwlBj9866qsc6qyd8hcQztCApXEK3378a1lzKM9N2gCiKeBGm843qrlLrFtJp7fHZic1S\n",
       "RDIH4nI7qU/j+4DU6CDmLfS1/sGL22AK6FR9LDOH/yd57x8MOABDcV/Bok0csfsf629/1goehXjO\n",
       "jDlFUcookMQIYkKboa7jhJt5bEEVK+jGh0FSlYBkrt07FS/bGGOojwZBVk8f+tVxzks2mkPEroDQ\n",
       "avuHu0d916go2pHf8CuVklc5NyOjQvUYsHxvLTGSO5Zf5SQYDN4KyW2Z2cKW5gKTWqRXEbm2yz02\n",
       "1pk+6M1TgeXG9PbpfZpSCxhB6KQ4o+gEZ8WHVuPnM+i7pXgb3hDC+54l98R8jqgexkYTdWVBjBDf\n",
       "GNMmTvl7/4N5IW+//LAifKMRlGlFLLHfCIwDQWPVmLM35F8FJ4I+//LPufOB6lBMNmY+jYVUpCjP\n",
       "eVSZkBxEbTb480+heDuBIXn2a+gDpf8jdH29b38fKJlTnYMa623CuzrgM/M2PEJwfVxxBpWUhhnW\n",
       "9AkYGtKCSjRYvwUJkNHPCGdNSZYDjusPXK0nXsiwx6VfPXVT8Yuw9d1jyGeqtNPImh6fOW75w84f\n",
       "CY6liv4F3+cJVAZV57bRSZI6YAuTRoifBRnJ+/ejm2gikWOUWnZdfJDcEwsrPmiALAgfnrOpPV/0\n",
       "YpR3SrxQ0xFOdsQUzcozdYAt9ZPFRPSlup5D9GbiZ1MAQskpObGH4BxG8HdZo8JCO8F0PxBXcUJd\n",
       "esdoV4z3h0oBERlBfP2PpkhDkFVjakDpweMpxYMwwYXepJcc55kdfdY9HksWzJJpGbCcE2SAWe/P\n",
       "vGEUO9UIoQ11pwglqWpgTPceBh0O9r7EN8BEBQbW9NMSXgfoZviCuyucOTHVFAGhfDOY0pSF0GJ1\n",
       "wUjSpJ4h47vX/Un/+zpjw3YHBfwvssm3iYDkOZugSO2wGW9mzVUWMb8DNX/CHH1qIch51+smUvG/\n",
       "kDXfwPuzyiZJusKa4N3WdCHy4cxltQYmByPwsol1bYsKcSm0Fmfr1x3DUvKmoirjj8np2U64Gn4C\n",
       "Ix7HvkZAgedBhh2d4QxUVfA7g+qP9zOnQ5SLmTPN5i++otrf3jLR2mcXs6+SdjesOJLIkAXABH+r\n",
       "enYvNmkOf3M9t4kFXpiGozkSIw/q8xX+pnZAmH+sjhJ0C1XqTJT7nlDy4rlKU9Qwh68RAX992nK8\n",
       "AoRSOJwM58Ew+tvRSysAn2FJUb0jBsEAYauxnUVIMF77DW1wEgq+3DynlAKQKIFp4NukKEKzbZ6N\n",
       "etdml7QMBbGCx5WTmhM+vzN3mEhJ/u3qtaJDHNFpWXB7Q3opxDn0TUv7Qk4lm7i8zj6UNpAnnfOx\n",
       "0X4jFlbEZ86m2tmBU4GOe/WXx/YP+VwiiR9PEmmUjP0VyksnS0gW+7biMNtZn5b7ft4HmfG3xI8f\n",
       "FyP9LPvX9v+uSLYK02O+JgK0v0Ok/a7yhHBIQHuWr1xqqaFOx+PCFWYg3nmB42h46KMZ2LCbj0HP\n",
       "78zqV9mSINJE5lTKBS4oVhfgLg1Ex9hiJ57aHxtgL+Moty8b7+kZ/9S6O4DHhFw+9ecKql5CYiIh\n",
       "gos7zVvFt6zUKoBCWNKxFcPpUDieKsaHFPPr+iSImIFiEHLXj3wYlFHftHvn9WTHHJQ+ElM5EIf5\n",
       "WASmhpP9z0WNHmVJM4hQjQi2wsW0ZJvAS4U6uJBqNm+MCTVJbqnZ/Uk4bpcIF9sgYQGoRK4MRrju\n",
       "l2qa/p7ReeE6Ff4M3jQ8E89tQjVFGhyhn4TF5lmeDSXBGq50eKDO0Gx1yKt1yTQV3yVK58+Ue+Zp\n",
       "oTLboQLXUnCk9Nf0HlZGnBXChlpk9A2phhgJXvuahHBNP5u5mFPMrowxXnJCYrWN1G4hPQnFnK8C\n",
       "8VBxkTlDMVs7WRhWY6+7t+u6APrdGbU1Lnxr2VvsZAhklrPK+nTKVsRaW4jaYwTWfSm8MEXfJtmn\n",
       "gV5ax/2Q7/6qL0rvO0lIh9xhUJjtIAVMmZkYz10rwvPdpsCKQTlEZfPnhyDuIG2j+Ysfuv9KR1KY\n",
       "HtYwNlqyunzePkhmNSdlOUcVJcUDuuk1QdRTT0VNWoSY6anrfeHY3uqA8nksM7c7lzFVF7vwydxY\n",
       "MHIXnqsWaLk5UhVi5NBxHJTAEttv3ssbL2enVebQ7UAF6rms4bgC+hU0eCJayrQauN7jT75/2nAt\n",
       "Sa+NXZ4B9jRslHWvLufuhZ59NsLRaXSpsb0XxkEE8P0NdTyY3YjJcHCFMhzAY9V438u4onP/xClW\n",
       "nNVfCHE+kLxSloMRwoiHCDCP6DM2fOudgTwzimLr0k2ZJG6CC09V+9g85XHHXeEB0q2wxa9JrY9L\n",
       "nBA8p1nCRsa6t3AVGNZiQVu0ftP1Nj6k7xBt7IUnw9Pm5niCDGmsxxfBrayWGAgJIuduy3wfZ8y5\n",
       "NSsrg0irOuplIVCLCz2VJOTn9FQWS0Dx5Zp7XjXN/U+1MxFUVyNbodB61lpyEhPIfPFuVggpBQRq\n",
       "EykSlIC/koTTdT9YE4qFiSjtCiJTkNgneUERizERf8XY7dKgI+R7efnQ8esy/OaL89qa/Qt7eXs3\n",
       "aOTY6uEYD21pAbELcTYbPN41K2bZUsIOuAq4Xc7b/f/4BQuomrL7e53X3IFN74stCV9Z7UuRXBtq\n",
       "DTcCHdpMRp+sRHvV0cknP8Zjmjyj/t5yesnQeN/sg0GSWPQJMesE76OtYKxQAE6K14iCbYsWfblb\n",
       "ofLM880GQ63UTlV7BrEHo1qpjY64BMoq4dswlDiGzOSwXRVElY/J4berJ0FzOIMhQoK+6BTH8VJp\n",
       "zKXXgHJtqYUTtL6jz/bNH3TfoeZ/uaOlO80eqNbCwzYI0f/2S2H3XiD0R1YSpbDy7E/4wdmP8OY3\n",
       "u6TmjjHoqsApw1xh2lWeXvV3Do374ZDeJ8rhoXuwq1keqTK5qaRyZLba2kt2JC3lzQfN3pkuNGcp\n",
       "ZCy6aW6JYw2Ckf8+GHcy4J6hz5fbMWxZzrF5H7Ua4MEHsD7i0fluy/9QJ19VDOvL76tTdp4Uaggb\n",
       "iIep6NaDZxrDU5iWGo+yVrEzmCT6YzwujgZwk0IQORYKQHlatLdx1V2OtDN2dToshswr76JUqusf\n",
       "rPx+pLAi6+gQQz0wzR171lN+xlDEaFLHLfmnSoBAcbbAuywdbSOXqzjRGOZIMxDObHd7YEK3nKoe\n",
       "L/WWnAX4ZcBzJ0oB/O+RiV6l4+gBzt5HEZwH/pyVSFDLWahXQNYhK7u/WfJoGXy80gozVEJGjsY7\n",
       "65pv/n2hA8t+CgBVFJt2wTK2q+Yqj8Yk1u/g3auXMPUl1xR9YU0qogqwjVLXAc5wspcNOMHmwi7e\n",
       "H9QjQRaHFfXeoN5bA9bVNUb/e5L5p4LA31Xk8BfUSGmuWTfCzhXUEY3p2QqeFqK7f0xoHW/Ke9wg\n",
       "HjlfbrPNn87iqO4IeAAABwBBnkF4gh8AArH0L7h5Mwl4P/C6wACWUfMKqj+niq+CbiF+QByxzgwt\n",
       "L6iE1AUXPFe4+nslsimDNB4BPAnBn7NTGbKvKoiWqZCWTbSIWT1Xiu3eaZomdjUJguTSFzOBs90N\n",
       "GdCUoWGViWXbe9nfgkLs7chX2YG5i9rorciYd9d/t3EvQyYp9bwfuVxwFVX7/x5IrkOE8ZgJaZN0\n",
       "VzIZKbMS1cSH+gAjls2GKssmzty8f24tXwwm0ki0RA20opaJZEsvZWz1jeC25XyMuVL2Hy+HEKM3\n",
       "u9oKD9PGA9anxCfv24KxRqO5NnA60H8nxpTk42MXNseQsZ8Rk2Rn+zlawdJsvZkWNO6YRD2G7pze\n",
       "NGwf6wsbIDZIRgWFu2NurFZPYEsJ5Zao8vkKZVBa/DhKR5GFOF9ammPjVGyZ5HYPCMMvmDzr2hh2\n",
       "AIAO3TJSKVEi+w8xCEvhmru3Yl3Z0oUIzA8xqvzPl1s9p8wXDoLj5XPDuHK/wzWjM3t4N0bNLwiZ\n",
       "x4cQ2IZ21tVx7ujhSOEmJAH5iLmgwVmn326PwUB3P8W9GYi3TN+xhtJDzWiIOGuKhNQHRh1d36YE\n",
       "dyUizd4fZEaxF/80IZqGyBI6PUrumhnaOLnpSsQNK3jmqHe++CC3eGv1ToTDeZ5jGrUgzFtqnYtR\n",
       "36oLDW23TKggkRBU081voY7VGzvlTrbT3enh2UiRWWIUkVZBS2naPrRh+7VX7K5nJyDyNtG08pBH\n",
       "/p5CY96/xBys0mbpDzEf+6LHHtxAdMAH6tW0KfFbx0xU0rrKKxaa5Y3SrtbSEjkxRXVr/EHF9GDZ\n",
       "Si9PZtv1eS7YBBn9QPV8vObSjV88JWpoPpLECfEpjRpMPAg+JGmQLPgu50nmTVZItPzfrI2/bEqt\n",
       "y+URah13EufImNvQXVp+kmb3wzzohTP3V0/nj+14rDQj47Rd4sfbCmQPtOJcP+46Kz2INSX38DmI\n",
       "PYvUbgVAp9mHIEuLo4qeRCnRqQIhPSr78Ajqd9GknTqbF0YgHZdJCaPqkKcZzRSbxbgSFOP8Yqlh\n",
       "6oeGfc2wmS1yj0iMVwSC8vVLOQvT9/LE8YI5DPNVj0i+v2Xm+niI/iMQAGrtljXvZ+PxrehgOcyZ\n",
       "OoY2oUIpMovezC405JlktUuReP86tublG3HPcdeQKsGz3nfGrMfwq8AkRat2wvaTF/B/FUjZZmFL\n",
       "eTh4keZ17PNlKdKVu/enAqJLhF0K+4JckO0k5Fc2pbKojnKA4q+BBRX0TTsbNUxsQcB5Z1Fsp9yC\n",
       "SuPsgiJTYqr7l7i2Vmm/kBdL/NJhaZU6KxYUlkq/hNocKyr71kpKh2L7wxPXbnYYvSL96KKV1Mzg\n",
       "2wnBP8qUrfgVgT9+LH6XJj0iDra9snLoIJ7xvqlWcT8cQSFBtpYsWdB+slqjeMPk0E8VvLrarZGe\n",
       "HhlLzR+FYXCx01UWK2Lvlp8/FMbqlfnhjV1IvT3Ce93zyfXdhM6nyTY1rDYa7crx18w0EvP/IOPq\n",
       "hZ8Ml7uvx0oWymjagd8pb9L8Vsq56RveU//5GC3q7KFUM0V/u6Zf/EchW9EKvmLqOH9oX8ucDUEQ\n",
       "wmP2EdLa5yxfw8LDZu9XsI5/oFORyfuajPieviPxZCpGPP754IXwOmt8uAq/Yhdp7dHKvvvY7OQ2\n",
       "zr3+4KBMY8rBdOki0tjjTv1bjzseo0kB5m5CU0q2xNYK9Y1/WKhni9Hr9b/RbgUvJcB1KNJ4kjig\n",
       "wt7/yi/cdjOEwlmSqLxOtJhuWJMOPJSRtZuhI53wSzNPg9lFw1pxrlcvZfe7ZaU66tXzTAtkNcxU\n",
       "ZpjsTnWh2cD3lXxpvjej3CB8PQKi4mi6rkyhogu1FMOHo5iS0HNJVyKHRt7JAJT9GDa640IvgXHk\n",
       "lMMxFRr8YQVN8TCYyMIUMwDW3MJu/eTm6b4VfevNKI4/Hg2RWv+hkBgeaQv7daT8Y+nwfVMdWFyd\n",
       "F257kC+y+LjTxfjfX3aZu+hCsnBR8OiHEvnMMyKkq3YNrtYeb1etic84YnKqeRWJACd2jeL/ni4e\n",
       "+XffIblelkugOwkc/7kA7xxi2wvDICDt39oA9QnjNeEeLKMWvXqp82KZSpe7JrECuquAAyvzIqon\n",
       "iwOmqAKT/Zv5sn2IeOAZZqT5hREOxkVw3VG4JrpifP6FmZMwM0y+ao+9lGDkTjWT050ahEbfP/lW\n",
       "ZCSngDBrH72Kv81+eYyn4/j4p15Czpip5wldGsYt2xxEw0VmEcgcs2nyrgFz5wH2idGKObdranSH\n",
       "m33JV9/2oAoTT/pE7JRza3fCo2Q29TOejPbAN9QEs5Sy3/tktiqLa78vTLmPNC1t9g9mF2v7AEFG\n",
       "IZ/P6jwuJc+aJXQObR/LzTfILloWeIcjO7mkDPUYfhouz8Gpf0cKAAHdAAAH6gGeYmpD/wAAIqnu\n",
       "pWgBa1S7duYM7Unff3HxLWMZEpR6ZNYTJWlv/yjKG4jpifvcyO3mJcdKilEFpbo7sJRdndYaPkxH\n",
       "E6ly2m0QiF/qJUNGz4mN3dpjYjrOOBm9ZCJz4U/+doSyS1YerLO84PGZCe4kzrMdXXJgjKMzdqZ3\n",
       "BvUB4fob8tlhWuuvPaMeTBoFwinTe97uWpoom4D7Zwxl9+ieySpb/jE3E1gw31xK3xwMbIgb8S0/\n",
       "mFb2ohrhX6XXj38OerUzp9b3J9IHoC69oRmFZ9g9l0N8FnOZgI1XY5KqbYdxJjFjy5AT+uILB93g\n",
       "l9g0wRSsgQe1J/3ThwE8/OJt0mQm7smFiEvkic1TexnnS3pSgLfvw38dIx2yj6UqUQEvpAcG87rK\n",
       "tkb49MlGUYucaNGp2RmzCo/qUuG5YF5Ozq7rh1CaLN7mgvJTJSPE+lRR5zeN2+jzITLdYVPBX8D0\n",
       "pySzxygdksjr8a2L7BKk4iBYGr8WtDEKhGh6Iw39jprBcTW3hogcktly5lGKkVFctu21E0PquQ8f\n",
       "CF0cPWG991zALUv8zdBTKdr2qq6sqL7CTTRdBqXsgsjKy7d9gi+V93+MtqwsuPSPzXhKQOa3Obul\n",
       "HSNfxlDZXcKmjYN0zd1bZgxTVMraz0gYGNiNu/w20/LNhWDB5bpq9yAn7x9Rx/TVEiQbMI/Z/x74\n",
       "17E8H9hEZ/3kQioaFvjsbFlKb1qPDGxn9i6ehFHEPRH8mN6guCbi3+AHMBnDuOK5V5muJ3/PNGcO\n",
       "T0TW3GWrQyycqbTvWtMHOHxDYmVRlJVS/fBdANjFBlFVjpIuI26lF7359+1A/cpRgh/3X7WoybMd\n",
       "/cJSbQBBfA9YdaWoD5f7WkJGcedE0DEHgIn//m+0iAOa+9WUGorQXPn03AnYnTAhSC8uomWhoVAO\n",
       "QX8mtpek15iVBQ66sittqXdXOxqdBtbfG2HoslfIxwJbovjs11KNJGkOegQP9IMHRyhbC626kBSU\n",
       "D50VEVM3quqWQFrCXCl5hgoztaJK0dlzoXCc0Oc399k88hsPm5B+mzt5VtkTNCBrx7Dxde0uharA\n",
       "PXx1AJ4MLs9SAvASGzb3jEZ+YL9LjcFJOcTeFQ1SEMkAwwhxNANE8RpH8eMnnE5mFcXSrplpsxIY\n",
       "O16y8VSj/F9rS6Rms/0BKGw235cH9pHNg6EZMRHISB/zGhdDoBdwyUfYuGiZvdB+MHpjo4DTQjZE\n",
       "8B9wph9W9T4jkGoafHRqYXKWc5kQyI6NeTN8Cd1w1CYVvG+raARtKTMfxRATCoGKq+UqjdQdNptg\n",
       "Ohfp6I4oP7IsLtgdr11WbGY76O5docc+eq/SkOWjzj5+MXRFl40R6ytLDv6iD8z9UWveLGNh7jrL\n",
       "F5zJoK8dQ6WJ8LSUvQ+7z5zvhwgotfdBhIso3spX3vg50pcteVQhT3unpgTPFXZ0yQ7+CON5rr7R\n",
       "xEYZz2n8D4DGtcUAE1QTh3i4okCphVuWBXNMRCehdc0ih43ZwQ39BXFtlNYApiMTL6bAbsBTuy0Y\n",
       "rhAEfEqpvPJH9d+MKA1vLgseptd4zKV/YTnwL+o7Vp5xrd2AY/NB0kr5VWjB0/XKHQB+CIlLxssI\n",
       "PXXBuXv8Y5ewNnCw2AXZtan8wxuxBtNsZHHVHv75l3KixO6T8oknxpYBWAyQEjVQ52mrlCTztb8S\n",
       "37k7/KNH3sR8I+DOzeMgbcq5F3/A4k6s1Y5rtQUvYV2/LfKXHsicRbTcdWjCsJ7fmQchy5QP3aa4\n",
       "v+aSQu5+rxAH3EAU5XafSRGhWT9NxocZ1dvuIcH6jtiwJSBUaoGjuH4wYKSOQ6KK/iqaPtwp1H8v\n",
       "B/0ngD/05419AtJLup3wZ5vz5YjL/tLjde/8KPKPwR/cGabOVJpWH/QZJha0n9VNk+Bsks7+5LUC\n",
       "uVQB7n3mB0OdNgbqziCyleffp+IeTP7birPVg9EqfYhYQ/FnVArFGteJZUIzZ7zjcaJFvcsrheZc\n",
       "J0WR7UtppAE+ceW6mHE8ykU3ow0LCU87s2ufckhZuP/y6AXRrLO6AmieIpB9fWELJdDEuh7sY543\n",
       "mcOK5HA/ypBY9Yf2Tlq8AsPQSDSK1NkLNjEWvO1U3t/TzKkmF87czrzLqiEI/XDi7NW81WHwNDbu\n",
       "s9O2wkblOiHEAzziSJHK6tMTDwn6OSUDcQB8UuV8O71OjlhTmjG91yYx1kG8S+hS1cZIctaYDqZj\n",
       "nu+QH57GvKO0xbhgIHhDjcUWuSTvbEwhKyPW+ciLJ/OdNXsCBC7MINYDmGs/kzlqm7HZrT7UFsY+\n",
       "nV93G27NJH4jLvOrcx+h8SCZM+lVnf9GB6y7vMv+5qfbohsi7LlsG0a6rVupkqydeHs97i9QYqGM\n",
       "JR8ZEQCSfgQRIKtnYVeR2zS8AGxUr/AKdN4Zb5Mo8VTD/HRCIcZszjnQmpju4ZOMEkskGDvuCuGa\n",
       "WyQS8F8rLa+gUw4D3Ki8Jdrsa64OTlTfQ7D4smi06yMo2RN9B2lF8tNhjh9pVRpr5sC625cUdFhh\n",
       "zBDyrQ2q1bPf4P3Lxv092pw4M61/VFgxk2Gh0N5FCZ7cLi1UcZZyTa76x3pscgNTHRkOf+2R6ftD\n",
       "AMWcDFG+yfO5A+5JGY6LZpLQULiu7e9NKY5FQZOPvGPdyY8/2uzho9iDDkxrT/OoEaejw/j658ru\n",
       "aaw70YyiOdOq27e5iyXiNacAMqAAAANXbW9vdgAAAGxtdmhkAAAAAAAAAAAAAAAAAAAD6AAAAyAA\n",
       "AQAAAQAAAAAAAAAAAAAAAAEAAAAAAAAAAAAAAAAAAAABAAAAAAAAAAAAAAAAAABAAAAAAAAAAAAA\n",
       "AAAAAAAAAAAAAAAAAAAAAAAAAAAAAgAAAoF0cmFrAAAAXHRraGQAAAADAAAAAAAAAAAAAAABAAAA\n",
       "AAAAAyAAAAAAAAAAAAAAAAAAAAAAAAEAAAAAAAAAAAAAAAAAAAABAAAAAAAAAAAAAAAAAABAAAAA\n",
       "AtAAAALQAAAAAAAkZWR0cwAAABxlbHN0AAAAAAAAAAEAAAMgAAAQAAABAAAAAAH5bWRpYQAAACBt\n",
       "ZGhkAAAAAAAAAAAAAAAAAAAoAAAAIABVxAAAAAAALWhkbHIAAAAAAAAAAHZpZGUAAAAAAAAAAAAA\n",
       "AABWaWRlb0hhbmRsZXIAAAABpG1pbmYAAAAUdm1oZAAAAAEAAAAAAAAAAAAAACRkaW5mAAAAHGRy\n",
       "ZWYAAAAAAAAAAQAAAAx1cmwgAAAAAQAAAWRzdGJsAAAAtHN0c2QAAAAAAAAAAQAAAKRhdmMxAAAA\n",
       "AAAAAAEAAAAAAAAAAAAAAAAAAAAAAtAC0ABIAAAASAAAAAAAAAABAAAAAAAAAAAAAAAAAAAAAAAA\n",
       "AAAAAAAAAAAAAAAAAAAAGP//AAAAMmF2Y0MBZAAf/+EAGWdkAB+s2UC0FuhAAAADAEAAAAMCg8YM\n",
       "ZYABAAZo6+PLIsAAAAAcdXVpZGtoQPJfJE/FujmlG88DI/MAAAAAAAAAGHN0dHMAAAAAAAAAAQAA\n",
       "AAQAAAgAAAAAFHN0c3MAAAAAAAAAAQAAAAEAAAAoY3R0cwAAAAAAAAADAAAAAQAAEAAAAAABAAAg\n",
       "AAAAAAIAAAgAAAAAHHN0c2MAAAAAAAAAAQAAAAEAAAAEAAAAAQAAACRzdHN6AAAAAAAAAAAAAAAE\n",
       "AAAwjwAADzkAAAcEAAAH7gAAABRzdGNvAAAAAAAAAAEAAAAsAAAAYnVkdGEAAABabWV0YQAAAAAA\n",
       "AAAhaGRscgAAAAAAAAAAbWRpcmFwcGwAAAAAAAAAAAAAAAAtaWxzdAAAACWpdG9vAAAAHWRhdGEA\n",
       "AAABAAAAAExhdmY1Ny41Ni4xMDE=\n",
       "\">\n",
       "  Your browser does not support the video tag.\n",
       "</video>"
      ],
      "text/plain": [
       "<IPython.core.display.HTML object>"
      ]
     },
     "execution_count": 40,
     "metadata": {},
     "output_type": "execute_result"
    }
   ],
   "source": [
    "HTML(ani.to_html5_video())"
   ]
  },
  {
   "cell_type": "code",
   "execution_count": null,
   "metadata": {
    "collapsed": true
   },
   "outputs": [],
   "source": []
  }
 ],
 "metadata": {
  "kernelspec": {
   "display_name": "Python 3",
   "language": "python",
   "name": "python3"
  },
  "language_info": {
   "codemirror_mode": {
    "name": "ipython",
    "version": 3
   },
   "file_extension": ".py",
   "mimetype": "text/x-python",
   "name": "python",
   "nbconvert_exporter": "python",
   "pygments_lexer": "ipython3",
   "version": "3.6.3"
  }
 },
 "nbformat": 4,
 "nbformat_minor": 2
}
