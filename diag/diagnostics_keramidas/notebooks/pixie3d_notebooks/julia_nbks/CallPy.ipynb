{
 "cells": [
  {
   "cell_type": "code",
   "execution_count": 1,
   "metadata": {
    "collapsed": true
   },
   "outputs": [],
   "source": [
    "using PyCall"
   ]
  },
  {
   "cell_type": "code",
   "execution_count": 2,
   "metadata": {},
   "outputs": [
    {
     "data": {
      "text/plain": [
       "\":/users/giannis_kx/python_efit:/users/giannis_kx/nemato_config:/users/giannis_kx/PyJulia/bin:/users/giannis_kx/FTLE_Giovanni:/users/giannis_kx/python_pixie\""
      ]
     },
     "execution_count": 2,
     "metadata": {},
     "output_type": "execute_result"
    }
   ],
   "source": [
    "ENV[\"PYTHONPATH\"]"
   ]
  },
  {
   "cell_type": "code",
   "execution_count": 3,
   "metadata": {},
   "outputs": [
    {
     "data": {
      "text/plain": [
       "PyObject <module 'numpy' from '/usr/projects/hpcsoft/toss3/common/x86_64/anaconda/5.0.1-python-3.6/lib/python3.6/site-packages/numpy/__init__.py'>"
      ]
     },
     "execution_count": 3,
     "metadata": {},
     "output_type": "execute_result"
    }
   ],
   "source": [
    "np = pyimport(\"numpy\")"
   ]
  },
  {
   "cell_type": "code",
   "execution_count": 3,
   "metadata": {},
   "outputs": [
    {
     "data": {
      "text/plain": [
       "PyObject <module 'pixie_read_st' from '/users/giannis_kx/python_pixie/pixie_read_st.py'>"
      ]
     },
     "execution_count": 3,
     "metadata": {},
     "output_type": "execute_result"
    }
   ],
   "source": [
    "pxr = pyimport(\"pixie_read_st\")"
   ]
  },
  {
   "cell_type": "code",
   "execution_count": 5,
   "metadata": {},
   "outputs": [
    {
     "data": {
      "text/plain": [
       "\"/net/scratch4/giannis_kx/pixie3d/iter/int_kink/11/11_new_visc.scratch/pixie3d.h5\""
      ]
     },
     "execution_count": 5,
     "metadata": {},
     "output_type": "execute_result"
    }
   ],
   "source": [
    "filepath = \"/net/scratch4/giannis_kx/pixie3d/iter/int_kink/11/11_new_visc.scratch/pixie3d.h5\""
   ]
  },
  {
   "cell_type": "code",
   "execution_count": 6,
   "metadata": {
    "collapsed": true
   },
   "outputs": [],
   "source": [
    "pxr.pixieload(filepath)"
   ]
  },
  {
   "cell_type": "code",
   "execution_count": 9,
   "metadata": {},
   "outputs": [
    {
     "data": {
      "text/plain": [
       "2.8380424036005145"
      ]
     },
     "execution_count": 9,
     "metadata": {},
     "output_type": "execute_result"
    }
   ],
   "source": [
    "pxr.X[1,1,1]"
   ]
  },
  {
   "cell_type": "code",
   "execution_count": 10,
   "metadata": {},
   "outputs": [
    {
     "data": {
      "text/plain": [
       "PyObject <module 'imp' from '/usr/projects/hpcsoft/toss3/common/x86_64/anaconda/5.0.1-python-3.6/lib/python3.6/imp.py'>"
      ]
     },
     "execution_count": 10,
     "metadata": {},
     "output_type": "execute_result"
    }
   ],
   "source": [
    "imp = pyimport(\"imp\")"
   ]
  },
  {
   "cell_type": "code",
   "execution_count": 11,
   "metadata": {},
   "outputs": [
    {
     "data": {
      "text/plain": [
       "PyObject <module 'pixie_read_st' from '/users/giannis_kx/python_pixie/pixie_read_st.py'>"
      ]
     },
     "execution_count": 11,
     "metadata": {},
     "output_type": "execute_result"
    }
   ],
   "source": [
    "imp.reload(pxr)"
   ]
  },
  {
   "cell_type": "code",
   "execution_count": 12,
   "metadata": {
    "collapsed": true
   },
   "outputs": [],
   "source": [
    "pxr.pixieload(filepath)"
   ]
  },
  {
   "cell_type": "code",
   "execution_count": 4,
   "metadata": {},
   "outputs": [
    {
     "data": {
      "text/plain": [
       "PyObject <module 'sys' (built-in)>"
      ]
     },
     "execution_count": 4,
     "metadata": {},
     "output_type": "execute_result"
    }
   ],
   "source": [
    "sys = pyimport(\"sys\")"
   ]
  },
  {
   "cell_type": "code",
   "execution_count": 5,
   "metadata": {},
   "outputs": [
    {
     "data": {
      "text/plain": [
       "10-element Array{String,1}:\n",
       " \"/turquoise/users/giannis_kx/Julia\"\n",
       " \"/users/giannis_kx/python_efit\"\n",
       " \"/users/giannis_kx/nemato_config\"\n",
       " \"/users/giannis_kx/PyJulia/bin\"\n",
       " \"/users/giannis_kx/FTLE_Giovanni\"\n",
       " \"/usr/projects/hpcsoft/toss3/common/x86_64/anaconda/5.0.1-python-3.6/lib/python36.zip\"\n",
       " \"/usr/projects/hpcsoft/toss3/common/x86_64/anaconda/5.0.1-python-3.6/lib/python3.6\"\n",
       " \"/usr/projects/hpcsoft/toss3/common/x86_64/anaconda/5.0.1-python-3.6/lib/python3.6/lib-dynload\"\n",
       " \"/users/giannis_kx/.local/lib/python3.6/site-packages\"\n",
       " \"/usr/projects/hpcsoft/toss3/common/x86_64/anaconda/5.0.1-python-3.6/lib/python3.6/site-packages\""
      ]
     },
     "execution_count": 5,
     "metadata": {},
     "output_type": "execute_result"
    }
   ],
   "source": [
    "sys.path"
   ]
  },
  {
   "cell_type": "code",
   "execution_count": 7,
   "metadata": {},
   "outputs": [
    {
     "data": {
      "text/plain": [
       "PyObject ['', '/turquoise/users/giannis_kx/Julia', '/users/giannis_kx/python_efit', '/users/giannis_kx/nemato_config', '/users/giannis_kx/PyJulia/bin', '/users/giannis_kx/FTLE_Giovanni', '/usr/projects/hpcsoft/toss3/common/x86_64/anaconda/5.0.1-python-3.6/lib/python36.zip', '/usr/projects/hpcsoft/toss3/common/x86_64/anaconda/5.0.1-python-3.6/lib/python3.6', '/usr/projects/hpcsoft/toss3/common/x86_64/anaconda/5.0.1-python-3.6/lib/python3.6/lib-dynload', '/users/giannis_kx/.local/lib/python3.6/site-packages', '/usr/projects/hpcsoft/toss3/common/x86_64/anaconda/5.0.1-python-3.6/lib/python3.6/site-packages']"
      ]
     },
     "execution_count": 7,
     "metadata": {},
     "output_type": "execute_result"
    }
   ],
   "source": [
    "pushfirst!(PyVector(pyimport(\"sys\").\"path\"), \"\")"
   ]
  },
  {
   "cell_type": "code",
   "execution_count": 8,
   "metadata": {},
   "outputs": [
    {
     "ename": "LoadError",
     "evalue": "PyError (PyImport_ImportModule\n\nThe Python package pixie_read_st could not be found by pyimport. Usually this means\nthat you did not install pixie_read_st in the Python version being used by PyCall.\n\nPyCall is currently configured to use the Python version at:\n\n/usr/projects/hpcsoft/toss3/common/x86_64/anaconda/5.0.1-python-3.6/bin/python3\n\nand you should use whatever mechanism you usually use (apt-get, pip, conda,\netcetera) to install the Python package containing the pixie_read_st module.\n\nOne alternative is to re-configure PyCall to use a different Python\nversion on your system: set ENV[\"PYTHON\"] to the path/name of the python\nexecutable you want to use, run Pkg.build(\"PyCall\"), and re-launch Julia.\n\nAnother alternative is to configure PyCall to use a Julia-specific Python\ndistribution via the Conda.jl package (which installs a private Anaconda\nPython distribution), which has the advantage that packages can be installed\nand kept up-to-date via Julia.  As explained in the PyCall documentation,\nset ENV[\"PYTHON\"]=\"\", run Pkg.build(\"PyCall\"), and re-launch Julia. Then,\nTo install the pixie_read_st module, you can use `pyimport_conda(\"pixie_read_st\", PKG)`,\nwhere PKG is the Anaconda package the contains the module pixie_read_st,\nor alternatively you can use the Conda package directly (via\n`using Conda` followed by `Conda.add` etcetera).\n\n) <class 'ModuleNotFoundError'>\nModuleNotFoundError(\"No module named 'pixie_read_st'\",)\n",
     "output_type": "error",
     "traceback": [
      "PyError (PyImport_ImportModule\n\nThe Python package pixie_read_st could not be found by pyimport. Usually this means\nthat you did not install pixie_read_st in the Python version being used by PyCall.\n\nPyCall is currently configured to use the Python version at:\n\n/usr/projects/hpcsoft/toss3/common/x86_64/anaconda/5.0.1-python-3.6/bin/python3\n\nand you should use whatever mechanism you usually use (apt-get, pip, conda,\netcetera) to install the Python package containing the pixie_read_st module.\n\nOne alternative is to re-configure PyCall to use a different Python\nversion on your system: set ENV[\"PYTHON\"] to the path/name of the python\nexecutable you want to use, run Pkg.build(\"PyCall\"), and re-launch Julia.\n\nAnother alternative is to configure PyCall to use a Julia-specific Python\ndistribution via the Conda.jl package (which installs a private Anaconda\nPython distribution), which has the advantage that packages can be installed\nand kept up-to-date via Julia.  As explained in the PyCall documentation,\nset ENV[\"PYTHON\"]=\"\", run Pkg.build(\"PyCall\"), and re-launch Julia. Then,\nTo install the pixie_read_st module, you can use `pyimport_conda(\"pixie_read_st\", PKG)`,\nwhere PKG is the Anaconda package the contains the module pixie_read_st,\nor alternatively you can use the Conda package directly (via\n`using Conda` followed by `Conda.add` etcetera).\n\n) <class 'ModuleNotFoundError'>\nModuleNotFoundError(\"No module named 'pixie_read_st'\",)\n",
      "",
      "Stacktrace:",
      " [1] pyimport(::String) at /users/giannis_kx/.julia/packages/PyCall/zqDXB/src/PyCall.jl:536",
      " [2] top-level scope at In[8]:1",
      " [3] include_string(::Function, ::Module, ::String, ::String) at ./loading.jl:1091"
     ]
    }
   ],
   "source": [
    "pxr = pyimport(\"pixie_read_st\")"
   ]
  },
  {
   "cell_type": "code",
   "execution_count": 9,
   "metadata": {},
   "outputs": [
    {
     "data": {
      "text/plain": [
       "11-element Array{String,1}:\n",
       " \"\"\n",
       " \"/turquoise/users/giannis_kx/Julia\"\n",
       " \"/users/giannis_kx/python_efit\"\n",
       " \"/users/giannis_kx/nemato_config\"\n",
       " \"/users/giannis_kx/PyJulia/bin\"\n",
       " \"/users/giannis_kx/FTLE_Giovanni\"\n",
       " \"/usr/projects/hpcsoft/toss3/common/x86_64/anaconda/5.0.1-python-3.6/lib/python36.zip\"\n",
       " \"/usr/projects/hpcsoft/toss3/common/x86_64/anaconda/5.0.1-python-3.6/lib/python3.6\"\n",
       " \"/usr/projects/hpcsoft/toss3/common/x86_64/anaconda/5.0.1-python-3.6/lib/python3.6/lib-dynload\"\n",
       " \"/users/giannis_kx/.local/lib/python3.6/site-packages\"\n",
       " \"/usr/projects/hpcsoft/toss3/common/x86_64/anaconda/5.0.1-python-3.6/lib/python3.6/site-packages\""
      ]
     },
     "execution_count": 9,
     "metadata": {},
     "output_type": "execute_result"
    }
   ],
   "source": [
    "sys.path"
   ]
  },
  {
   "cell_type": "code",
   "execution_count": 12,
   "metadata": {},
   "outputs": [
    {
     "name": "stdout",
     "output_type": "stream",
     "text": [
      "MANPATH=/usr/projects/hpcsoft/toss3/common/x86_64/anaconda/5.0.1-python-3.6/share/man:/usr/projects/hpcsoft/toss3/badger/openmpi/3.1.6-gcc-9.3.0/share/man:/usr/projects/hpcsoft/toss3/common/x86_64/gcc/9.3.0/share/man:/usr/projects/hpcsoft/toss3/common/x86_64/mercurial/5.2.1/share/man:/usr/projects/hpcsoft/toss3/common/x86_64/git/2.21.0/share/man:/usr/share/lmod/lmod/share/man::\n",
      "XDG_SESSION_ID=1142\n",
      "HOSTNAME=ba-fe1\n",
      "_ModuleTable003_=cGFyYWxsZWwvMS4xMC41IixbImZ1bGxOYW1lIl09ImhkZjUtcGFyYWxsZWwvMS4xMC41IixbImxvYWRPcmRlciJdPTYscHJvcFQ9e30sWyJzdGFja0RlcHRoIl09MCxbInN0YXR1cyJdPSJhY3RpdmUiLFsidXNlck5hbWUiXT0iaGRmNS1wYXJhbGxlbC8xLjEwLjUiLH0sanVsaWE9e1siZm4iXT0iL3Vzci9wcm9qZWN0cy9ocGNzb2Z0L21vZHVsZWZpbGVzL3Rvc3MzL2JhZGdlci9zYW5kYm94L2p1bGlhLzEuNS4xIixbImZ1bGxOYW1lIl09Imp1bGlhLzEuNS4xIixbImxvYWRPcmRlciJdPTkscHJvcFQ9e30sWyJzdGFja0RlcHRoIl09MCxbInN0YXR1cyJdPSJhY3RpdmUiLFsidXNlck5hbWUiXT0ianVsaWEvMS41LjEiLH0sbWVyY3VyaWFsPXtbImZuIl09Ii91c3IvcHJvamVj\n",
      "LCOMPILER=gcc\n",
      "SHELL=/bin/bash\n",
      "TERM=xterm-256color\n",
      "__LMOD_REF_COUNT_MODULEPATH=/etc/modulefiles:1;/usr/share/modulefiles:1;/usr/share/modulefiles/Linux:1;/usr/share/modulefiles/Core:1;/usr/share/lmod/lmod/modulefiles/Core:1;/usr/projects/hpcsoft/modulefiles/toss3/badger/compiler:1;/usr/projects/hpcsoft/modulefiles/toss3/badger/debugger:1;/usr/projects/hpcsoft/modulefiles/toss3/badger/libraries:1;/usr/projects/hpcsoft/modulefiles/toss3/badger/misc:1;/usr/projects/hpcsoft/modulefiles/toss3/badger/mpi:1;/usr/projects/hpcsoft/modulefiles/toss3/badger/tools:1;/usr/projects/hpcsoft/modulefiles/toss3/badger/viz:1;/usr/projects/hpcsoft/modulefiles/toss3/badger/sandbox:1\n",
      "HISTSIZE=1000\n",
      "WISECONFIGDIR=/usr/share/wise2/\n",
      "ORTE_CC=gcc\n",
      "SSH_CLIENT=204.121.65.2 54934 22\n",
      "MODULEPATH_ROOT=/usr/share/modulefiles\n",
      "LMPI=openmpi\n",
      "OMP_STACKSIZE=1G\n",
      "LMOD_PKG=/usr/share/lmod/lmod\n",
      "QTDIR=/usr/lib64/qt-3.3\n",
      "OMPI_F77=gfortran\n",
      "ORTE_CXX=g++\n",
      "QTINC=/usr/lib64/qt-3.3/include\n",
      "LMOD_VERSION=7.8.16\n",
      "OMPI_FC=gfortran\n",
      "SSH_TTY=/dev/pts/18\n",
      "LC_ALL=en_US.UTF-8\n",
      "__LMOD_REF_COUNT_LOADEDMODULES=git/2.21.0:1;mercurial/5.2.1:1;fstools/2.1:1;gcc/9.3.0:1;openmpi/3.1.6:1;hdf5-parallel/1.10.5:1;python/3.6-anaconda-5.0.1:1;sandbox:1;julia/1.5.1:1\n",
      "LMPIVER=3.1.6\n",
      "_ModuleTable007_=b2plY3RzL2hwY3NvZnQvbW9kdWxlZmlsZXMvdG9zczMvYmFkZ2VyL21pc2MiLCIvdXNyL3Byb2plY3RzL2hwY3NvZnQvbW9kdWxlZmlsZXMvdG9zczMvYmFkZ2VyL21waSIsIi91c3IvcHJvamVjdHMvaHBjc29mdC9tb2R1bGVmaWxlcy90b3NzMy9iYWRnZXIvdG9vbHMiLCIvdXNyL3Byb2plY3RzL2hwY3NvZnQvbW9kdWxlZmlsZXMvdG9zczMvYmFkZ2VyL3ZpeiIsIi91c3IvcHJvamVjdHMvaHBjc29mdC9tb2R1bGVmaWxlcy90b3NzMy9iYWRnZXIvc2FuZGJveCIsfSxbInN5c3RlbUJhc2VNUEFUSCJdPSIvZXRjL21vZHVsZWZpbGVzOi91c3Ivc2hhcmUvbW9kdWxlZmlsZXM6L3Vzci9zaGFyZS9tb2R1bGVmaWxlcy9MaW51eDovdXNyL3NoYXJlL21vZHVsZWZpbGVzL0NvcmU6\n",
      "QT_GRAPHICSSYSTEM_CHECKED=1\n",
      "USER=giannis_kx\n",
      "http_proxy=proxyout.lanl.gov:8080\n",
      "LS_COLORS=rs=0:di=38;5;27:ln=38;5;51:mh=44;38;5;15:pi=40;38;5;11:so=38;5;13:do=38;5;5:bd=48;5;232;38;5;11:cd=48;5;232;38;5;3:or=48;5;232;38;5;9:mi=05;48;5;232;38;5;15:su=48;5;196;38;5;15:sg=48;5;11;38;5;16:ca=48;5;196;38;5;226:tw=48;5;10;38;5;16:ow=48;5;10;38;5;21:st=48;5;21;38;5;15:ex=38;5;34:*.tar=38;5;9:*.tgz=38;5;9:*.arc=38;5;9:*.arj=38;5;9:*.taz=38;5;9:*.lha=38;5;9:*.lz4=38;5;9:*.lzh=38;5;9:*.lzma=38;5;9:*.tlz=38;5;9:*.txz=38;5;9:*.tzo=38;5;9:*.t7z=38;5;9:*.zip=38;5;9:*.z=38;5;9:*.Z=38;5;9:*.dz=38;5;9:*.gz=38;5;9:*.lrz=38;5;9:*.lz=38;5;9:*.lzo=38;5;9:*.xz=38;5;9:*.bz2=38;5;9:*.bz=38;5;9:*.tbz=38;5;9:*.tbz2=38;5;9:*.tz=38;5;9:*.deb=38;5;9:*.rpm=38;5;9:*.jar=38;5;9:*.war=38;5;9:*.ear=38;5;9:*.sar=38;5;9:*.rar=38;5;9:*.alz=38;5;9:*.ace=38;5;9:*.zoo=38;5;9:*.cpio=38;5;9:*.7z=38;5;9:*.rz=38;5;9:*.cab=38;5;9:*.jpg=38;5;13:*.jpeg=38;5;13:*.gif=38;5;13:*.bmp=38;5;13:*.pbm=38;5;13:*.pgm=38;5;13:*.ppm=38;5;13:*.tga=38;5;13:*.xbm=38;5;13:*.xpm=38;5;13:*.tif=38;5;13:*.tiff=38;5;13:*.png=38;5;13:*.svg=38;5;13:*.svgz=38;5;13:*.mng=38;5;13:*.pcx=38;5;13:*.mov=38;5;13:*.mpg=38;5;13:*.mpeg=38;5;13:*.m2v=38;5;13:*.mkv=38;5;13:*.webm=38;5;13:*.ogm=38;5;13:*.mp4=38;5;13:*.m4v=38;5;13:*.mp4v=38;5;13:*.vob=38;5;13:*.qt=38;5;13:*.nuv=38;5;13:*.wmv=38;5;13:*.asf=38;5;13:*.rm=38;5;13:*.rmvb=38;5;13:*.flc=38;5;13:*.avi=38;5;13:*.fli=38;5;13:*.flv=38;5;13:*.gl=38;5;13:*.dl=38;5;13:*.xcf=38;5;13:*.xwd=38;5;13:*.yuv=38;5;13:*.cgm=38;5;13:*.emf=38;5;13:*.axv=38;5;13:*.anx=38;5;13:*.ogv=38;5;13:*.ogx=38;5;13:*.aac=38;5;45:*.au=38;5;45:*.flac=38;5;45:*.mid=38;5;45:*.midi=38;5;45:*.mka=38;5;45:*.mp3=38;5;45:*.mpc=38;5;45:*.ogg=38;5;45:*.ra=38;5;45:*.wav=38;5;45:*.axa=38;5;45:*.oga=38;5;45:*.spx=38;5;45:*.xspf=38;5;45:\n",
      "LMOD_sys=Linux\n",
      "LD_LIBRARY_PATH=/usr/projects/hpcsoft/toss3/badger/hdf5/1.10.5_gcc-9.3.0_openmpi-3.1.6/lib:/usr/projects/hpcsoft/toss3/badger/openmpi/3.1.6-gcc-9.3.0/lib:/usr/projects/hpcsoft/toss3/common/x86_64/gcc/9.3.0/lib64\n",
      "_ModuleTable004_=dHMvaHBjc29mdC9tb2R1bGVmaWxlcy90b3NzMy9iYWRnZXIvdG9vbHMvbWVyY3VyaWFsLzUuMi4xIixbImZ1bGxOYW1lIl09Im1lcmN1cmlhbC81LjIuMSIsWyJsb2FkT3JkZXIiXT0yLHByb3BUPXt9LFsic3RhY2tEZXB0aCJdPTAsWyJzdGF0dXMiXT0iYWN0aXZlIixbInVzZXJOYW1lIl09Im1lcmN1cmlhbCIsfSxvcGVubXBpPXtbImZuIl09Ii91c3IvcHJvamVjdHMvaHBjc29mdC9tb2R1bGVmaWxlcy90b3NzMy9iYWRnZXIvbXBpL29wZW5tcGkvMy4xLjYiLFsiZnVsbE5hbWUiXT0ib3Blbm1waS8zLjEuNiIsWyJsb2FkT3JkZXIiXT01LHByb3BUPXt9LFsic3RhY2tEZXB0aCJdPTAsWyJzdGF0dXMiXT0iYWN0aXZlIixbInVzZXJOYW1lIl09Im9wZW5tcGkvMy4xLjYiLH0s\n",
      "CPATH=/usr/projects/hpcsoft/toss3/badger/hdf5/1.10.5_gcc-9.3.0_openmpi-3.1.6/include:/usr/projects/hpcsoft/toss3/badger/openmpi/3.1.6-gcc-9.3.0/include\n",
      "ftp_proxy=proxyout.lanl.gov:8080\n",
      "FTP_PROXY=proxyout.lanl.gov:8080\n",
      "__LMOD_REF_COUNT__LMFILES_=/usr/projects/hpcsoft/modulefiles/toss3/badger/tools/git/2.21.0:1;/usr/projects/hpcsoft/modulefiles/toss3/badger/tools/mercurial/5.2.1:1;/usr/projects/hpcsoft/modulefiles/toss3/badger/tools/fstools/2.1:1;/usr/projects/hpcsoft/modulefiles/toss3/badger/compiler/gcc/9.3.0:1;/usr/projects/hpcsoft/modulefiles/toss3/badger/mpi/openmpi/3.1.6:1;/usr/projects/hpcsoft/modulefiles/toss3/badger/libraries/hdf5-parallel/1.10.5:1;/usr/projects/hpcsoft/modulefiles/toss3/badger/tools/python/3.6-anaconda-5.0.1:1;/usr/projects/hpcsoft/modulefiles/toss3/badger/misc/sandbox:1;/usr/projects/hpcsoft/modulefiles/toss3/badger/sandbox/julia/1.5.1:1\n",
      "LPYTHON_HOME=/usr/projects/hpcsoft/toss3/common/x86_64/anaconda/5.0.1-python-3.6\n",
      "HDF5_VER=1.10.5\n",
      "CPP=cpp\n",
      "PATH=/usr/projects/hpcsoft/toss3/common/x86_64/julia/1.5.1/bin:/usr/projects/hpcsoft/toss3/common/x86_64/anaconda/5.0.1-python-3.6/bin:/usr/projects/hpcsoft/toss3/badger/hdf5/1.10.5_gcc-9.3.0_openmpi-3.1.6/bin:/usr/projects/hpcsoft/toss3/badger/openmpi/3.1.6-gcc-9.3.0/bin:/usr/projects/hpcsoft/toss3/common/x86_64/gcc/9.3.0/bin:/usr/projects/hpcsoft/common/fstools/2.1/bin:/usr/projects/hpcsoft/toss3/common/x86_64/mercurial/5.2.1/bin:/usr/projects/hpcsoft/toss3/common/x86_64/git/2.21.0/bin:/users/giannis_kx/bin:/usr/lib64/qt-3.3/bin:/usr/local/bin:/usr/bin:/usr/local/sbin:/usr/sbin\n",
      "MAIL=/var/spool/mail/giannis_kx\n",
      "_ModuleTable001_=X01vZHVsZVRhYmxlXz17WyJNVHZlcnNpb24iXT0zLFsiY19yZWJ1aWxkVGltZSJdPWZhbHNlLFsiY19zaG9ydFRpbWUiXT1mYWxzZSxkZXB0aFQ9e30sZmFtaWx5PXt9LG1UPXtmc3Rvb2xzPXtbImZuIl09Ii91c3IvcHJvamVjdHMvaHBjc29mdC9tb2R1bGVmaWxlcy90b3NzMy9iYWRnZXIvdG9vbHMvZnN0b29scy8yLjEiLFsiZnVsbE5hbWUiXT0iZnN0b29scy8yLjEiLFsibG9hZE9yZGVyIl09Myxwcm9wVD17fSxbInN0YWNrRGVwdGgiXT0wLFsic3RhdHVzIl09ImFjdGl2ZSIsWyJ1c2VyTmFtZSJdPSJmc3Rvb2xzIix9LGdjYz17WyJmbiJdPSIvdXNyL3Byb2plY3RzL2hwY3NvZnQvbW9kdWxlZmlsZXMvdG9zczMvYmFkZ2VyL2NvbXBpbGVyL2djYy85LjMuMCIsWyJmdWxs\n",
      "MPI_NAME=openmpi\n",
      "PWD=/users/giannis_kx\n",
      "F90=gfortran\n",
      "_LMFILES_=/usr/projects/hpcsoft/modulefiles/toss3/badger/tools/git/2.21.0:/usr/projects/hpcsoft/modulefiles/toss3/badger/tools/mercurial/5.2.1:/usr/projects/hpcsoft/modulefiles/toss3/badger/tools/fstools/2.1:/usr/projects/hpcsoft/modulefiles/toss3/badger/compiler/gcc/9.3.0:/usr/projects/hpcsoft/modulefiles/toss3/badger/mpi/openmpi/3.1.6:/usr/projects/hpcsoft/modulefiles/toss3/badger/libraries/hdf5-parallel/1.10.5:/usr/projects/hpcsoft/modulefiles/toss3/badger/tools/python/3.6-anaconda-5.0.1:/usr/projects/hpcsoft/modulefiles/toss3/badger/misc/sandbox:/usr/projects/hpcsoft/modulefiles/toss3/badger/sandbox/julia/1.5.1\n",
      "HDF5_ROOT=/usr/projects/hpcsoft/toss3/badger/hdf5/1.10.5_gcc-9.3.0_openmpi-3.1.6\n",
      "LANG=en_US.UTF-8\n",
      "F95=gfortran\n",
      "MODULEPATH=/etc/modulefiles:/usr/share/modulefiles:/usr/share/modulefiles/Linux:/usr/share/modulefiles/Core:/usr/share/lmod/lmod/modulefiles/Core:/usr/projects/hpcsoft/modulefiles/toss3/badger/compiler:/usr/projects/hpcsoft/modulefiles/toss3/badger/debugger:/usr/projects/hpcsoft/modulefiles/toss3/badger/libraries:/usr/projects/hpcsoft/modulefiles/toss3/badger/misc:/usr/projects/hpcsoft/modulefiles/toss3/badger/mpi:/usr/projects/hpcsoft/modulefiles/toss3/badger/tools:/usr/projects/hpcsoft/modulefiles/toss3/badger/viz:/usr/projects/hpcsoft/modulefiles/toss3/badger/sandbox\n",
      "KDEDIRS=/usr\n",
      "_ModuleTable_Sz_=8\n",
      "LOADEDMODULES=git/2.21.0:mercurial/5.2.1:fstools/2.1:gcc/9.3.0:openmpi/3.1.6:hdf5-parallel/1.10.5:python/3.6-anaconda-5.0.1:sandbox:julia/1.5.1\n",
      "__LMOD_REF_COUNT_INFOPATH=/usr/projects/hpcsoft/toss3/common/x86_64/gcc/9.3.0/share/info:1\n",
      "OPAL_CC=gcc\n",
      "F77=gfortran\n",
      "LMOD_CMD=/usr/share/lmod/lmod/libexec/lmod\n",
      "MPI_VERSION=3.1.6\n",
      "_ModuleTable005_=cHl0aG9uPXtbImZuIl09Ii91c3IvcHJvamVjdHMvaHBjc29mdC9tb2R1bGVmaWxlcy90b3NzMy9iYWRnZXIvdG9vbHMvcHl0aG9uLzMuNi1hbmFjb25kYS01LjAuMSIsWyJmdWxsTmFtZSJdPSJweXRob24vMy42LWFuYWNvbmRhLTUuMC4xIixbImxvYWRPcmRlciJdPTcscHJvcFQ9e30sWyJzdGFja0RlcHRoIl09MCxbInN0YXR1cyJdPSJhY3RpdmUiLFsidXNlck5hbWUiXT0icHl0aG9uLzMuNi1hbmFjb25kYS01LjAuMSIsfSxzYW5kYm94PXtbImZuIl09Ii91c3IvcHJvamVjdHMvaHBjc29mdC9tb2R1bGVmaWxlcy90b3NzMy9iYWRnZXIvbWlzYy9zYW5kYm94IixbImZ1bGxOYW1lIl09InNhbmRib3giLFsibG9hZE9yZGVyIl09OCxwcm9wVD17fSxbInN0YWNrRGVwdGgiXT0w\n",
      "https_proxy=proxyout.lanl.gov:8080\n",
      "HTTPS_PROXY=proxyout.lanl.gov:8080\n",
      "HISTCONTROL=ignoredups\n",
      "SSH_ASKPASS=/usr/libexec/openssh/gnome-ssh-askpass\n",
      "CXX=g++\n",
      "OPAL_CXX=g++\n",
      "HOME=/users/giannis_kx\n",
      "SHLVL=2\n",
      "__LMOD_REF_COUNT_PATH=/usr/projects/hpcsoft/toss3/common/x86_64/julia/1.5.1/bin:1;/usr/projects/hpcsoft/toss3/common/x86_64/anaconda/5.0.1-python-3.6/bin:1;/usr/projects/hpcsoft/toss3/badger/hdf5/1.10.5_gcc-9.3.0_openmpi-3.1.6/bin:1;/usr/projects/hpcsoft/toss3/badger/openmpi/3.1.6-gcc-9.3.0/bin:1;/usr/projects/hpcsoft/toss3/common/x86_64/gcc/9.3.0/bin:1;/usr/projects/hpcsoft/common/fstools/2.1/bin:1;/usr/projects/hpcsoft/toss3/common/x86_64/mercurial/5.2.1/bin:1;/usr/projects/hpcsoft/toss3/common/x86_64/git/2.21.0/bin:1;/users/giannis_kx/bin:1;/usr/lib64/qt-3.3/bin:1;/usr/local/bin:1;/usr/bin:1;/usr/local/sbin:1;/usr/sbin:1\n"
     ]
    },
    {
     "name": "stdout",
     "output_type": "stream",
     "text": [
      "OMPI_CC=gcc\n",
      "_MODULES_GIT=git/2.21.0\n",
      "__LMOD_REF_COUNT_CPATH=/usr/projects/hpcsoft/toss3/badger/hdf5/1.10.5_gcc-9.3.0_openmpi-3.1.6/include:1;/usr/projects/hpcsoft/toss3/badger/openmpi/3.1.6-gcc-9.3.0/include:1\n",
      "_ModuleTable002_=TmFtZSJdPSJnY2MvOS4zLjAiLFsibG9hZE9yZGVyIl09NCxwcm9wVD17fSxbInN0YWNrRGVwdGgiXT0wLFsic3RhdHVzIl09ImFjdGl2ZSIsWyJ1c2VyTmFtZSJdPSJnY2MvOS4zLjAiLH0sZ2l0PXtbImZuIl09Ii91c3IvcHJvamVjdHMvaHBjc29mdC9tb2R1bGVmaWxlcy90b3NzMy9iYWRnZXIvdG9vbHMvZ2l0LzIuMjEuMCIsWyJmdWxsTmFtZSJdPSJnaXQvMi4yMS4wIixbImxvYWRPcmRlciJdPTEscHJvcFQ9e30sWyJzdGFja0RlcHRoIl09MCxbInN0YXR1cyJdPSJhY3RpdmUiLFsidXNlck5hbWUiXT0iZ2l0Iix9LFsiaGRmNS1wYXJhbGxlbCJdPXtbImZuIl09Ii91c3IvcHJvamVjdHMvaHBjc29mdC9tb2R1bGVmaWxlcy90b3NzMy9iYWRnZXIvbGlicmFyaWVzL2hkZjUt\n",
      "LCOMPILERMAJVER=9\n",
      "HTTP_PROXY=proxyout.lanl.gov:8080\n",
      "FC=gfortran\n",
      "GCC=/usr/projects/hpcsoft/toss3/common/x86_64/gcc/9.3.0\n",
      "MPIHOME=/usr/projects/hpcsoft/toss3/badger/openmpi/3.1.6-gcc-9.3.0\n",
      "BASH_ENV=/usr/share/lmod/lmod/init/bash\n",
      "_ModuleTable008_=L3Vzci9zaGFyZS9sbW9kL2xtb2QvbW9kdWxlZmlsZXMvQ29yZSIsfQ==\n",
      "LOGNAME=giannis_kx\n",
      "PYTHONPATH=:/users/giannis_kx/python_efit:/users/giannis_kx/nemato_config:/users/giannis_kx/PyJulia/bin:/users/giannis_kx/FTLE_Giovanni\n",
      "MPI_ROOT=/usr/projects/hpcsoft/toss3/badger/openmpi/3.1.6-gcc-9.3.0\n",
      "CVS_RSH=ssh\n",
      "LUSTRE_JOBID=ba.giannis_kx\n",
      "QTLIB=/usr/lib64/qt-3.3/lib\n",
      "SSH_CONNECTION=204.121.65.2 54934 204.121.65.93 22\n",
      "XDG_DATA_DIRS=/users/giannis_kx/.local/share/flatpak/exports/share:/var/lib/flatpak/exports/share:/usr/local/share:/usr/share\n",
      "MODULESHOME=/usr/share/lmod/lmod\n",
      "LESSOPEN=||/usr/bin/lesspipe.sh %s\n",
      "LMOD_SETTARG_FULL_SUPPORT=no\n",
      "__LMOD_REF_COUNT_LD_LIBRARY_PATH=/usr/projects/hpcsoft/toss3/badger/hdf5/1.10.5_gcc-9.3.0_openmpi-3.1.6/lib:1;/usr/projects/hpcsoft/toss3/badger/openmpi/3.1.6-gcc-9.3.0/lib:1;/usr/projects/hpcsoft/toss3/common/x86_64/gcc/9.3.0/lib64:1\n",
      "LMPIMAJVER=3\n",
      "OMPI_CXX=g++\n",
      "YETI_CONF=/etc/slurm/yeti.conf\n",
      "INFOPATH=/usr/projects/hpcsoft/toss3/common/x86_64/gcc/9.3.0/share/info\n",
      "DISPLAY=localhost:16.0\n",
      "XDG_RUNTIME_DIR=/run/user/31585\n",
      "CC=gcc\n",
      "LCOMPILERVER=9.3.0\n",
      "QT_PLUGIN_PATH=/usr/lib64/kde4/plugins:/usr/lib/kde4/plugins\n",
      "PELANL_PRGENV=true\n",
      "LMOD_DIR=/usr/share/lmod/lmod/libexec\n",
      "__LMOD_REF_COUNT_MANPATH=/usr/projects/hpcsoft/toss3/common/x86_64/anaconda/5.0.1-python-3.6/share/man:1;/usr/projects/hpcsoft/toss3/badger/openmpi/3.1.6-gcc-9.3.0/share/man:1;/usr/projects/hpcsoft/toss3/common/x86_64/gcc/9.3.0/share/man:1;/usr/projects/hpcsoft/toss3/common/x86_64/mercurial/5.2.1/share/man:1;/usr/projects/hpcsoft/toss3/common/x86_64/git/2.21.0/share/man:1;/usr/share/lmod/lmod/share/man:1\n",
      "_ModuleTable006_=LFsic3RhdHVzIl09ImFjdGl2ZSIsWyJ1c2VyTmFtZSJdPSJzYW5kYm94Iix9LH0sbXBhdGhBPXsiL2V0Yy9tb2R1bGVmaWxlcyIsIi91c3Ivc2hhcmUvbW9kdWxlZmlsZXMiLCIvdXNyL3NoYXJlL21vZHVsZWZpbGVzL0xpbnV4IiwiL3Vzci9zaGFyZS9tb2R1bGVmaWxlcy9Db3JlIiwiL3Vzci9zaGFyZS9sbW9kL2xtb2QvbW9kdWxlZmlsZXMvQ29yZSIsIi91c3IvcHJvamVjdHMvaHBjc29mdC9tb2R1bGVmaWxlcy90b3NzMy9iYWRnZXIvY29tcGlsZXIiLCIvdXNyL3Byb2plY3RzL2hwY3NvZnQvbW9kdWxlZmlsZXMvdG9zczMvYmFkZ2VyL2RlYnVnZ2VyIiwiL3Vzci9wcm9qZWN0cy9ocGNzb2Z0L21vZHVsZWZpbGVzL3Rvc3MzL2JhZGdlci9saWJyYXJpZXMiLCIvdXNyL3By\n",
      "_MODULES_CC=gcc/9.3.0\n",
      "BASH_FUNC_module()=() {  eval $($LMOD_CMD bash \"$@\") && eval $(${LMOD_SETTARG_CMD:-:} -s sh)\n",
      "}\n",
      "BASH_FUNC_ml()=() {  eval $($LMOD_DIR/ml_cmd \"$@\")\n",
      "}\n",
      "_=/usr/projects/hpcsoft/toss3/common/x86_64/anaconda/5.0.1-python-3.6/bin/jupyter-notebook\n",
      "JPY_PARENT_PID=5139\n",
      "OPENBLAS_MAIN_FREE=1\n",
      "OPENBLAS_NUM_THREADS=8\n",
      "LINES=30\n",
      "COLUMNS=80\n",
      "\n"
     ]
    }
   ],
   "source": [
    "println(ENV)"
   ]
  },
  {
   "cell_type": "code",
   "execution_count": 13,
   "metadata": {},
   "outputs": [
    {
     "data": {
      "text/plain": [
       "140.0"
      ]
     },
     "execution_count": 13,
     "metadata": {},
     "output_type": "execute_result"
    }
   ],
   "source": [
    "floor(703/5)"
   ]
  },
  {
   "cell_type": "code",
   "execution_count": 17,
   "metadata": {},
   "outputs": [
    {
     "name": "stdout",
     "output_type": "stream",
     "text": [
      "1\n",
      "2\n",
      "3\n",
      "4\n"
     ]
    }
   ],
   "source": [
    "for r in range(1,stop=4)\n",
    "    println(r)\n",
    "end"
   ]
  },
  {
   "cell_type": "code",
   "execution_count": null,
   "metadata": {
    "collapsed": true
   },
   "outputs": [],
   "source": []
  }
 ],
 "metadata": {
  "kernelspec": {
   "display_name": "Julia 1.5.1",
   "language": "julia",
   "name": "julia-1.5"
  },
  "language_info": {
   "file_extension": ".jl",
   "mimetype": "application/julia",
   "name": "julia",
   "version": "1.5.1"
  }
 },
 "nbformat": 4,
 "nbformat_minor": 2
}
