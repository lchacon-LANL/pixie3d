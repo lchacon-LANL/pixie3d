{
 "cells": [
  {
   "cell_type": "code",
   "execution_count": 2,
   "metadata": {
    "collapsed": true
   },
   "outputs": [],
   "source": [
    "%matplotlib inline\n",
    "import matplotlib.pyplot as plt\n",
    "import pylab as py\n",
    "import numpy as np\n",
    "from imp import reload\n",
    "import scipy\n",
    "from scipy.interpolate import interp1d\n",
    "from scipy import interpolate\n",
    "import pixie_read_st as pxr"
   ]
  },
  {
   "cell_type": "code",
   "execution_count": 3,
   "metadata": {},
   "outputs": [
    {
     "data": {
      "text/plain": [
       "<module 'pixie_read_st' from '/turquoise/users/giannis_kx/python_pixie/pixie_read_st.py'>"
      ]
     },
     "execution_count": 3,
     "metadata": {},
     "output_type": "execute_result"
    }
   ],
   "source": [
    "reload(pxr)"
   ]
  },
  {
   "cell_type": "code",
   "execution_count": 6,
   "metadata": {
    "collapsed": true
   },
   "outputs": [],
   "source": [
    "plt.style.use('ggplot')\n",
    "plt.rcParams['font.size'] = 20\n",
    "plt.rcParams['axes.labelsize'] = 20\n",
    "plt.rcParams['axes.labelweight'] = 'heavy'\n",
    "plt.rcParams['xtick.labelsize'] = 15\n",
    "plt.rcParams['ytick.labelsize'] = 15\n",
    "plt.rcParams['legend.fontsize'] = 10\n",
    "plt.rcParams['figure.titlesize'] = 12\n",
    "plt.rcParams['text.usetex']=True"
   ]
  },
  {
   "cell_type": "code",
   "execution_count": 4,
   "metadata": {
    "collapsed": true
   },
   "outputs": [],
   "source": [
    "filepath = \"/net/scratch3/giannis_kx/pixie3d/iter/iter3d/db_tear/dt_sh_m3_n2.scratch/pixie3d.h5\""
   ]
  },
  {
   "cell_type": "code",
   "execution_count": 5,
   "metadata": {},
   "outputs": [
    {
     "name": "stdout",
     "output_type": "stream",
     "text": [
      "timesteps= 205\n",
      "Dictionary of terms:\n",
      "Variables: ['Car_variables', 'Cnv_variables', 'Cov_variables', 'Diagnostics', 'Perturbations', 'cells', 'nodes']\n",
      "Cartesian: ['Bx', 'By', 'Bz', 'Jx', 'Jy', 'Jz', 'T=Te+Ti', 'Ve_1', 'Ve_2', 'Ve_3', 'Vx', 'Vy', 'Vz', 'rho']\n",
      "Contravariant: ['B^1', 'B^2', 'B^3', 'J*P^2', 'J.(pi+pe)', 'J.Rho', 'J^1', 'J^2', 'J^3', 'P^1', 'P^3']\n",
      "Covariant: ['B_1', 'B_2', 'B_3', 'J_1', 'J_2', 'J_3', 'T=Te+Ti', 'V_1', 'V_2', 'V_3', 'rho']\n",
      "Diagnostic: ['E_1', 'E_2', 'E_3', 'Int. heat src', 'Poloidal flux', 'Temperature', 'V.(b x grad(psi))', 'V.grad(psi)', 'V||', 'chi', 'eta', 'lambda', 'local div(B)', 'local div(J)', 'local div(V)', 'nu', 'q factor']\n",
      "Perturbations: ['B^1 pert', 'B^2 pert', 'B^3 pert', 'P^1 pert', 'P^2 pert', 'P^3 pert', 'Rho pert', 'p=pi+pe pert']\n",
      "Cell: ['X', 'Y', 'Z']\n",
      "Node: ['X', 'Y', 'Z']\n"
     ]
    }
   ],
   "source": [
    "pxr.pixieload(filepath)"
   ]
  },
  {
   "cell_type": "code",
   "execution_count": 7,
   "metadata": {
    "collapsed": true
   },
   "outputs": [],
   "source": [
    "psit = np.load(\"/net/scratch3/giannis_kx/pixie3d/iter/iter3d/db_tear/dt_sh_m3_n2.scratch/psit_J.npy\")\n",
    "B1 = np.load(\"/net/scratch3/giannis_kx/pixie3d/iter/iter3d/db_tear/dt_sh_m3_n2.scratch/B1_J.npy\")\n",
    "B2 = np.load(\"/net/scratch3/giannis_kx/pixie3d/iter/iter3d/db_tear/dt_sh_m3_n2.scratch/B2_J.npy\")\n",
    "B3 = np.load(\"/net/scratch3/giannis_kx/pixie3d/iter/iter3d/db_tear/dt_sh_m3_n2.scratch/B3_J.npy\")"
   ]
  },
  {
   "cell_type": "code",
   "execution_count": 13,
   "metadata": {
    "collapsed": true
   },
   "outputs": [],
   "source": [
    "B1t = np.mean(B1,axis=2)\n",
    "B2t = np.mean(B2,axis=2)"
   ]
  },
  {
   "cell_type": "code",
   "execution_count": 11,
   "metadata": {},
   "outputs": [
    {
     "name": "stdout",
     "output_type": "stream",
     "text": [
      "Logical Grid Interpolations done. All array (A) interpolators take A_int.\n",
      "Units and sizes calculated.\n"
     ]
    }
   ],
   "source": [
    "pxr.Axes_of_Interpolation(B3)\n",
    "pxr.Grid_Interpolations(psit,B1,B2,B3)\n",
    "pxr.Calculation_of_Units_and_Sizes()"
   ]
  },
  {
   "cell_type": "code",
   "execution_count": 14,
   "metadata": {
    "collapsed": true
   },
   "outputs": [],
   "source": [
    "psi_min,norm = pxr.Normalization_numbers(psit,B1t,B2t);"
   ]
  },
  {
   "cell_type": "code",
   "execution_count": 233,
   "metadata": {},
   "outputs": [
    {
     "name": "stdout",
     "output_type": "stream",
     "text": [
      "[ 0.171875    0.26396341  0.2963589   0.31992738  0.33952517  0.35665827\n",
      "  0.37194772  0.38586862  0.39867808  0.41056174  0.42166067  0.43204346\n",
      "  0.44186393  0.451195    0.46009853  0.46862472  0.47681414  0.4847023\n",
      "  0.49228812  0.49963014  0.50675081  0.51367036  0.52040581  0.52697273\n",
      "  0.53338488  0.53965476  0.54579483  0.5518038   0.55769528  0.56348505\n",
      "  0.56918181  0.5747922   0.58032257  0.58577858  0.59116547  0.59648785\n",
      "  0.60175006  0.60695653  0.61210835  0.61720698  0.62225666  0.62726324\n",
      "  0.63222984  0.63715817  0.64205044  0.64690859  0.65173436  0.65652943\n",
      "  0.66129532  0.66603352  0.6707454   0.67543184  0.68009277  0.68472863\n",
      "  0.68934291  0.69393736  0.69851234  0.70306882  0.7076077   0.71212973\n",
      "  0.71663565  0.72112617  0.72560198  0.7300636   0.73451177  0.73894727\n",
      "  0.74336923  0.74777752  0.75217446  0.7565609   0.76093682  0.76530268\n",
      "  0.76965888  0.77400575  0.77834361  0.78267279  0.7869936   0.79130629\n",
      "  0.79561113  0.79990859  0.80419857  0.80848058  0.81275517  0.81702311\n",
      "  0.8212846   0.82553981  0.82978888  0.83403189  0.83826886  0.84249984\n",
      "  0.84672488  0.85094403  0.85515733  0.85936482  0.86356655  0.86776258\n",
      "  0.87195293  0.87613767  0.88031683  0.88449047  0.88865862]\n"
     ]
    },
    {
     "data": {
      "image/png": "[encoded data removed]",
      "text/plain": [
       "<matplotlib.figure.Figure at 0x2b1d62babb38>"
      ]
     },
     "metadata": {},
     "output_type": "display_data"
    }
   ],
   "source": [
    "Ind = np.unravel_index(np.argmin(psit[:,:]),(psit.shape[0],psit.shape[1])) # find index of magnetic axis\n",
    "r_ind = Ind[0] \n",
    "u_ind = Ind[1]\n",
    "\n",
    "X0 = pxr.X[r_ind,u_ind,0] # x,z locations of magnetic axis\n",
    "Z0 = pxr.Z[r_ind,u_ind,0]\n",
    "\n",
    "r_ma_log = pxr.CnvNumber2LogicalR(r_ind) # r,u logical coordinates of magnetic axis \n",
    "u_ma_log = pxr.CnvNumber2LogicalU(u_ind)\n",
    "\n",
    "cs1 = plt.contour(pxr.X[:,:,0],pxr.Z[:,:,0],(psit[:,:]-psi_min[0])/(norm[0]-psi_min[0]),levels=[0.95],colors=\"y\")\n",
    "for i in range(len(cs1.collections[0].get_paths())): # get the coordinates of q_95 surface\n",
    "    p1 = cs1.collections[0].get_paths()[i]\n",
    "    v1 = p1.vertices\n",
    "    x_l = v1[:,0] \n",
    "    y_l = v1[:,1]\n",
    "    \n",
    "    L = int(np.floor(len(v1[:,0])/10)) # Length of branch suitable for interpolation\n",
    "    \n",
    "# Choose part of flux surface suitable for interpolation\n",
    "if Z0 > y_l[0]: # magnetic axis higher than 1st point of flux surface\n",
    "    list_fs_x = list(x_l[0:L]) # pick upper branch\n",
    "    list_fs_y = list(y_l[0:L])\n",
    "else:\n",
    "    list_fs_x = list(x_l[-L:-1]) # pick lower branch\n",
    "    list_fs_y = list(y_l[-L:-1])\n",
    "\n",
    "#plt.plot(X0,Z0,\"x\")\n",
    "#plt.plot(list_fs_x,list_fs_y,linestyle=\"dashed\",color=\"b\")\n",
    "#plt.axhline(y=Z0)\n",
    "xmin = min(pxr.X[:,int(pxr.X.shape[1]/2),0])\n",
    "xmax = max(pxr.X[:,0,0])\n",
    "xhl_list = np.linspace(xmin,xmax,100) # list of points for horizontal line interpolation\n",
    "zhl_list = Z0*np.ones(100)\n",
    "\n",
    "# Interpolation of the two lines\n",
    "flux_surf_interp = scipy.interpolate.interp1d(list_fs_x,list_fs_y,fill_value=\"extrapolate\")\n",
    "hline_interp = scipy.interpolate.interp1d(xhl_list,zhl_list,fill_value=\"extrapolate\")\n",
    "\n",
    "# defines error that needs to be minimized to find crossing\n",
    "def difference(x):\n",
    "    return np.abs(hline_interp(x)-flux_surf_interp(x))\n",
    "# find crossing point: NEEDS INITIAL GUESS\n",
    "Xx = scipy.optimize.fsolve(difference,x0=3.4)\n",
    "#plt.plot(Xx,Z0,\"s\")\n",
    "H_line = np.linspace(X0,Xx,100) # horizontal line that connects magnetic axis and q95 surface\n",
    "\n",
    "# convert X,Z0 pairs to logical coordinates in the shaped grid\n",
    "r_of_hline = [r_ma_log] # start with first position being the magnetic axis. Procedure leaves a systematic error of 2cm.\n",
    "u_of_hline = [u_ma_log]\n",
    "for x in H_line[1:]:\n",
    "    r,u = pxr.pntCnvInGrid_shaped(x,Z0,r_of_hline[-1],u_of_hline[-1]) # last position is initial guess for new one\n",
    "    r_of_hline.append(r)\n",
    "    u_of_hline.append(u)\n",
    "\n",
    "# Because of the systematic error, find the actual x-values to which these r,u pairs correspond     \n",
    "H_line_resulted = pxr.X_int((r_of_hline,u_of_hline,0)) \n",
    "H_line_zero = pxr.X_int((r_of_hline,0,0)) \n",
    "plt.plot(H_line_resulted,Z0*np.ones(100),linestyle=\"dashed\")\n",
    "plt.plot(H_line_zero,Z0*np.ones(100))\n",
    "#plt.ylim(Z0-0.1,Z0+0.1)\n",
    "#plt.xlim(3.0,3.5)\n",
    "#print(r_of_hline)\n",
    "# psin values of those points    \n",
    "psi_val_list = (pxr.psit_int((r_of_hline,u_of_hline))-psi_min[0])/(norm[0]-psi_min[0])\n",
    "\n",
    "# R(psin) interpolation\n",
    "r_of_psin = interp1d(psi_val_list,r_of_hline, kind = \"cubic\", fill_value = \"extrapolate\")\n",
    "\n",
    "# Final r(psin) list\n",
    "psin_list = np.linspace(0.0,1.0,101)\n",
    "r_of_psin_list = r_of_psin(psin_list)\n",
    "print(r_of_psin_list)"
   ]
  },
  {
   "cell_type": "markdown",
   "metadata": {
    "collapsed": true
   },
   "source": [
    "## Check grid conversion"
   ]
  },
  {
   "cell_type": "code",
   "execution_count": 206,
   "metadata": {},
   "outputs": [
    {
     "data": {
      "text/plain": [
       "<module 'pixie_read_st' from '/turquoise/users/giannis_kx/python_pixie/pixie_read_st.py'>"
      ]
     },
     "execution_count": 206,
     "metadata": {},
     "output_type": "execute_result"
    }
   ],
   "source": [
    "reload(pxr)"
   ]
  },
  {
   "cell_type": "code",
   "execution_count": 207,
   "metadata": {},
   "outputs": [
    {
     "name": "stdout",
     "output_type": "stream",
     "text": [
      "R =  1.9546783790099824\n",
      "Z =  0.8561444456348555\n",
      "r_cnv =  0.887763101057\n",
      "u_cnv =  2.80489722744\n",
      "R_cnv =  1.9459559209919532\n",
      "Z_cnv =  0.8539825541875192\n"
     ]
    },
    {
     "data": {
      "image/png": "[encoded data removed]",
      "text/plain": [
       "<matplotlib.figure.Figure at 0x2b1d63113198>"
      ]
     },
     "metadata": {},
     "output_type": "display_data"
    }
   ],
   "source": [
    "r_start = 0.88\n",
    "u_start = 2.8\n",
    "R_start = pxr.X_int((r_start,u_start,0))\n",
    "Z_start = pxr.Z_int((r_start,u_start,0))\n",
    "print(\"R = \", R_start)\n",
    "print(\"Z = \", Z_start)\n",
    "r_cnv,u_cnv = pxr.pntCnvInGrid_shaped(pxr.X_int((r_start,u_start,0)),pxr.Z_int((r_start,u_start,0)),0.7,2.5)\n",
    "print(\"r_cnv = \", r_cnv)\n",
    "print(\"u_cnv = \", u_cnv)\n",
    "R_cnv = pxr.X_int((r_cnv,u_cnv,0))\n",
    "Z_cnv = pxr.Z_int((r_cnv,u_cnv,0))\n",
    "print(\"R_cnv = \", R_cnv)\n",
    "print(\"Z_cnv = \", Z_cnv)\n",
    "plt.contour(pxr.X[:,:,0],pxr.Z[:,:,0],(psit[:,:]-psi_min[0])/(norm[0]-psi_min[0]),levels=[0.95],colors=\"y\")\n",
    "plt.plot(pxr.X_int((r_start,u_start,0)),pxr.Z_int((r_start,u_start,0)),\"x\")\n",
    "plt.plot(pxr.X_int((r_cnv,u_cnv,0)),pxr.Z_int((r_cnv,u_cnv,0)),\"s\")\n",
    "plt.show()"
   ]
  },
  {
   "cell_type": "code",
   "execution_count": null,
   "metadata": {
    "collapsed": true
   },
   "outputs": [],
   "source": []
  }
 ],
 "metadata": {
  "kernelspec": {
   "display_name": "Python 3",
   "language": "python",
   "name": "python3"
  },
  "language_info": {
   "codemirror_mode": {
    "name": "ipython",
    "version": 3
   },
   "file_extension": ".py",
   "mimetype": "text/x-python",
   "name": "python",
   "nbconvert_exporter": "python",
   "pygments_lexer": "ipython3",
   "version": "3.6.3"
  }
 },
 "nbformat": 4,
 "nbformat_minor": 2
}
