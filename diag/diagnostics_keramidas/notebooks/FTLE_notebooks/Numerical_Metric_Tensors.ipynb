{
 "cells": [
  {
   "cell_type": "code",
   "execution_count": 1,
   "metadata": {
    "collapsed": true
   },
   "outputs": [],
   "source": [
    "import numpy as np"
   ]
  },
  {
   "cell_type": "markdown",
   "metadata": {},
   "source": [
    "## Cartesian"
   ]
  },
  {
   "cell_type": "code",
   "execution_count": 2,
   "metadata": {
    "collapsed": true
   },
   "outputs": [],
   "source": [
    "Nr=100\n",
    "Nu=100\n",
    "r_range = np.linspace(0.00001,1,Nr)\n",
    "t_range = np.linspace(0,2*np.pi,Nu)"
   ]
  },
  {
   "cell_type": "code",
   "execution_count": 40,
   "metadata": {
    "collapsed": true
   },
   "outputs": [],
   "source": [
    "Grr = np.ones((Nr,Nu))\n",
    "Gtt = np.ones((Nr,Nu))\n",
    "Gpp = np.ones((Nr,Nu))\n",
    "Grt = np.zeros((Nr,Nu))\n",
    "Grp = np.zeros((Nr,Nu))\n",
    "Gpt = np.zeros((Nr,Nu))\n",
    "grr_up = np.ones((Nr,Nu))\n",
    "grt_up = np.zeros((Nr,Nu))\n",
    "gtt_up = np.ones((Nr,Nu))\n",
    "gpp_up = np.ones((Nr,Nu))"
   ]
  },
  {
   "cell_type": "code",
   "execution_count": 5,
   "metadata": {
    "collapsed": true
   },
   "outputs": [],
   "source": [
    "path = \"/net/scratch3/giannis_kx/FTLE/test_cartesian/\""
   ]
  },
  {
   "cell_type": "code",
   "execution_count": 6,
   "metadata": {
    "collapsed": true
   },
   "outputs": [],
   "source": [
    "np.savez(path+'shaped_metric_coeff',grr_do=Grr,gtt_do=Gtt,gpp_do=Gpp,grt_do=Grt,grr_up=grr_up,grt_up=grt_up,\\\n",
    "         gtt_up=gtt_up,gpp_up=gpp_up,radial_grid=r_range,pol_grid=t_range)"
   ]
  },
  {
   "cell_type": "markdown",
   "metadata": {},
   "source": [
    "## Cylindrical"
   ]
  },
  {
   "cell_type": "code",
   "execution_count": 8,
   "metadata": {
    "collapsed": true
   },
   "outputs": [],
   "source": [
    "grr_do = np.ones((Nr,Nu))\n",
    "gpp_do = np.ones((Nr,Nu))\n",
    "grt_do = np.zeros((Nr,Nu))\n",
    "grp_do = np.zeros((Nr,Nu))\n",
    "gpt_do = np.zeros((Nr,Nu))\n",
    "grr_up = np.ones((Nr,Nu))\n",
    "grt_up = np.zeros((Nr,Nu))\n",
    "gpp_up = np.ones((Nr,Nu))"
   ]
  },
  {
   "cell_type": "code",
   "execution_count": 18,
   "metadata": {
    "collapsed": true
   },
   "outputs": [],
   "source": [
    "gtt_do = []\n",
    "gtt_up = []\n",
    "for rr in r_range:\n",
    "    for tt in t_range:\n",
    "        gtt_do.append(rr**2.)\n",
    "        gtt_up.append(1./(rr**2.))\n",
    "gtt_do = np.swapaxes(np.reshape(gtt_do,(Nr,Nu)),0,1)\n",
    "gtt_up = np.swapaxes(np.reshape(gtt_up,(Nr,Nu)),0,1)"
   ]
  },
  {
   "cell_type": "code",
   "execution_count": 19,
   "metadata": {
    "collapsed": true
   },
   "outputs": [],
   "source": [
    "path_cyl = \"/users/giannis_kx/FTLE_Giovanni/\""
   ]
  },
  {
   "cell_type": "code",
   "execution_count": 20,
   "metadata": {},
   "outputs": [],
   "source": [
    "np.savez(path_cyl+'Numeric_cyl2',grr_do=grr_do,gtt_do=gtt_do,gpp_do=gpp_do,grt_do=grt_do,grr_up=grr_up,grt_up=grt_up,\\\n",
    "         gtt_up=gtt_up,gpp_up=gpp_up,radial_grid=r_range,pol_grid=t_range)"
   ]
  },
  {
   "cell_type": "code",
   "execution_count": 12,
   "metadata": {
    "collapsed": true
   },
   "outputs": [],
   "source": [
    "import matplotlib.pyplot as plt"
   ]
  },
  {
   "cell_type": "code",
   "execution_count": 17,
   "metadata": {},
   "outputs": [
    {
     "data": {
      "image/png": "[encoded data removed]",
      "text/plain": [
       "<matplotlib.figure.Figure at 0x2af42c886a90>"
      ]
     },
     "metadata": {},
     "output_type": "display_data"
    }
   ],
   "source": [
    "plt.contourf(r_range,t_range,gtt_do)\n",
    "plt.show()"
   ]
  },
  {
   "cell_type": "code",
   "execution_count": null,
   "metadata": {
    "collapsed": true
   },
   "outputs": [],
   "source": []
  }
 ],
 "metadata": {
  "kernelspec": {
   "display_name": "Python 3",
   "language": "python",
   "name": "python3"
  },
  "language_info": {
   "codemirror_mode": {
    "name": "ipython",
    "version": 3
   },
   "file_extension": ".py",
   "mimetype": "text/x-python",
   "name": "python",
   "nbconvert_exporter": "python",
   "pygments_lexer": "ipython3",
   "version": "3.6.3"
  }
 },
 "nbformat": 4,
 "nbformat_minor": 2
}
